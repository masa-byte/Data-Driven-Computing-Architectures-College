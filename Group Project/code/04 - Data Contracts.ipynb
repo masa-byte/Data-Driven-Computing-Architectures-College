{
 "cells": [
  {
   "cell_type": "code",
   "execution_count": 0,
   "metadata": {
    "application/vnd.databricks.v1+cell": {
     "cellMetadata": {
      "byteLimit": 2048000,
      "rowLimit": 10000
     },
     "inputWidgets": {},
     "nuid": "18df5f06-aa0a-4d06-bcb8-b54cb9b499f5",
     "showTitle": false,
     "tableResultSettingsMap": {},
     "title": ""
    }
   },
   "outputs": [
    {
     "output_type": "stream",
     "name": "stdout",
     "output_type": "stream",
     "text": [
      "The autoreload extension is already loaded. To reload it, use:\n  %reload_ext autoreload\n"
     ]
    },
    {
     "output_type": "display_data",
     "data": {
      "application/vnd.databricks.v1+autoreload_discoverability": {
       "error_modules": {},
       "mode": "modules_reloaded",
       "success_modules": [
        "logger"
       ]
      }
     },
     "metadata": {},
     "output_type": "display_data"
    }
   ],
   "source": [
    "%load_ext autoreload\n",
    "%autoreload 2\n",
    "# Enables autoreload; learn more at https://docs.databricks.com/en/files/workspace-modules.html#autoreload-for-python-modules\n",
    "# To disable autoreload; run %autoreload 0"
   ]
  },
  {
   "cell_type": "code",
   "execution_count": 0,
   "metadata": {
    "application/vnd.databricks.v1+cell": {
     "cellMetadata": {
      "byteLimit": 2048000,
      "rowLimit": 10000
     },
     "inputWidgets": {},
     "nuid": "ff9ab6da-05a7-4366-bec6-c911af383c4d",
     "showTitle": false,
     "tableResultSettingsMap": {},
     "title": ""
    }
   },
   "outputs": [],
   "source": [
    "import json\n",
    "import os\n",
    "\n",
    "from logger import log_message"
   ]
  },
  {
   "cell_type": "code",
   "execution_count": 0,
   "metadata": {
    "application/vnd.databricks.v1+cell": {
     "cellMetadata": {
      "byteLimit": 2048000,
      "rowLimit": 10000
     },
     "inputWidgets": {},
     "nuid": "ad610cf6-8ea4-4062-9572-412abdace1d1",
     "showTitle": false,
     "tableResultSettingsMap": {},
     "title": ""
    }
   },
   "outputs": [],
   "source": [
    "base_path = \"file:/Workspace/Users/masa.cirkovic@abo.fi/\"\n",
    "raw_data_path = base_path + \"rawdata/\""
   ]
  },
  {
   "cell_type": "code",
   "execution_count": 0,
   "metadata": {
    "application/vnd.databricks.v1+cell": {
     "cellMetadata": {
      "byteLimit": 2048000,
      "rowLimit": 10000
     },
     "inputWidgets": {},
     "nuid": "d448cec6-acb2-4688-9312-c0b5638f0b3c",
     "showTitle": false,
     "tableResultSettingsMap": {},
     "title": ""
    }
   },
   "outputs": [],
   "source": [
    "# Bronze Contracts\n",
    "bronze_car_sales_contract = {\n",
    "    \"version\": \"1.0\",\n",
    "    \"layer\": \"bronze\",\n",
    "    \"source\": f\"{raw_data_path}car_sales_data.csv\",\n",
    "    \"format\": \"csv\",\n",
    "    \"ingestion_process\": \"batch_ingestion\",\n",
    "    \"schema\": {\n",
    "        \"_c0\": \"int\",\n",
    "        \"car\": \"string\",\n",
    "        \"date\": \"string\",\n",
    "        \"dealer_name\": \"string\",\n",
    "        \"dealer_tegion\": \"string\",\n",
    "        \"company\": \"string\",\n",
    "        \"model\": \"string\",\n",
    "        \"engine\": \"string\",\n",
    "        \"transmission\": \"string\",\n",
    "        \"color_car\": \"string\",\n",
    "        \"body_style\": \"string\",\n",
    "        \"price_$\": \"string\"\n",
    "    }\n",
    "}\n",
    "\n",
    "bronze_companies_contract = {\n",
    "    \"version\": \"1.0\",\n",
    "    \"layer\": \"bronze\",\n",
    "    \"source\": f\"{raw_data_path}companies_data.json\",\n",
    "    \"format\": \"json\",\n",
    "    \"ingestion_process\": \"batch_ingestion\",\n",
    "    \"schema\": {\n",
    "        \"company_id\": \"string\",\n",
    "        \"company_name\": \"string\",\n",
    "        \"company_type\": \"string\",\n",
    "        \"founding_year\": \"int\",\n",
    "        \"headquarters\": \"string\"\n",
    "    }\n",
    "}\n",
    "\n",
    "bronze_customers_contract = {\n",
    "    \"version\": \"1.0\",\n",
    "    \"layer\": \"bronze\",\n",
    "    \"source\": f\"{raw_data_path}customers_data.csv\",\n",
    "    \"format\": \"csv\",\n",
    "    \"ingestion_process\": \"batch_ingestion\",\n",
    "    \"schema\": {\n",
    "        \"car_id\": \"string\",\n",
    "        \"name\": \"string\",\n",
    "        \"gender\": \"string\",\n",
    "        \"annual_income\": \"int\"\n",
    "    }\n",
    "}"
   ]
  },
  {
   "cell_type": "code",
   "execution_count": 0,
   "metadata": {
    "application/vnd.databricks.v1+cell": {
     "cellMetadata": {
      "byteLimit": 2048000,
      "rowLimit": 10000
     },
     "inputWidgets": {},
     "nuid": "6d9135a0-9090-44a2-94ee-98a338819a9f",
     "showTitle": false,
     "tableResultSettingsMap": {},
     "title": ""
    }
   },
   "outputs": [],
   "source": [
    "# Silver Contracts\n",
    "silver_car_sales_contract = {\n",
    "    \"version\": \"1.0\",\n",
    "    \"layer\": \"silver\",\n",
    "    \"source\": \"bronze_car_sales_data\",\n",
    "    \"format\": \"dataframe\",\n",
    "    \"schema\": {\n",
    "        \"car_id\": {\"type\": \"string\", \"rules\": [\"not_null\"]},\n",
    "        \"date\": {\"type\": \"date\", \"rules\": [\"not_null\"]},\n",
    "        \"dealer_name\": {\"type\": \"string\", \"rules\": [\"not_null\"]},\n",
    "        \"dealer_region\": {\"type\": \"string\", \"rules\": [\"not_null\"]},\n",
    "        \"company_id\": {\"type\": \"string\", \"rules\": [\"not_null\"]},\n",
    "        \"model\": {\"type\": \"string\", \"rules\": [\"not_null\"]},\n",
    "        \"engine\": {\"type\": \"string\", \"rules\": [\"not_null\"]},\n",
    "        \"transmission\": {\"type\": \"string\", \"rules\": [\"not_null\"]},\n",
    "        \"color\": {\"type\": \"string\", \"rules\": [\"not_null\"]},\n",
    "        \"body_style\": {\"type\": \"string\", \"rules\": [\"not_null\"]},\n",
    "        \"price_$\": {\"type\": \"int\", \"rules\": [\"greater_than_0\", \"not_null\"]}\n",
    "    }\n",
    "}\n",
    "\n",
    "silver_companies_contract = {\n",
    "    \"version\": \"1.0\",\n",
    "    \"layer\": \"silver\",\n",
    "    \"source\": \"bronze_companies_data\",\n",
    "    \"format\": \"dataframe\",\n",
    "    \"schema\": {\n",
    "        \"company_id\": {\"type\": \"string\", \"rules\": [\"not_null\"]},\n",
    "        \"company_name\": {\"type\": \"string\", \"rules\": [\"not_null\"]},\n",
    "        \"company_type\": {\"type\": \"string\", \"rules\": [\"not_null\"]},\n",
    "        \"founding_year\": {\"type\": \"int\", \"rules\": [\"not_null\"]},\n",
    "        \"headquarters\": {\"type\": \"string\", \"rules\": [\"not_null\"]}\n",
    "    }\n",
    "}\n",
    "\n",
    "silver_customers_contract = {\n",
    "    \"version\": \"1.0\",\n",
    "    \"layer\": \"silver\",\n",
    "    \"source\": \"bronze_customers_data\",\n",
    "    \"format\": \"dataframe\",\n",
    "    \"schema\": {\n",
    "        \"car_id\": {\"type\": \"string\", \"rules\": [\"not_null\"]},\n",
    "        \"name\": {\"type\": \"string\", \"rules\": [\"not_null\"]},\n",
    "        \"gender\": {\"type\": \"string\", \"rules\": [\"not_null\"]},\n",
    "        \"annual_income_$\": {\"type\": \"int\", \"rules\": [\"greater_than_0\", \"not_null\"]}\n",
    "    }\n",
    "}"
   ]
  },
  {
   "cell_type": "code",
   "execution_count": 0,
   "metadata": {
    "application/vnd.databricks.v1+cell": {
     "cellMetadata": {
      "byteLimit": 2048000,
      "rowLimit": 10000
     },
     "inputWidgets": {},
     "nuid": "0e47cb04-69ee-4429-86ca-61b754db73ab",
     "showTitle": false,
     "tableResultSettingsMap": {},
     "title": ""
    }
   },
   "outputs": [],
   "source": [
    "# Golden Layer Contract\n",
    "golden_contract = {\n",
    "    \"version\": \"1.0\",\n",
    "    \"layer\": \"golden\",\n",
    "    \"source\": [\"silver_car_sales_data\", \"silver_companies_data\", \"silver_customers_data\"],\n",
    "    \"format\": \"dataframe\",\n",
    "    \"schema\": {\n",
    "        \"car_id\": {\"type\": \"string\", \"rules\": [\"not_null\"]},\n",
    "        \"date\": {\"type\": \"date\", \"rules\": [\"not_null\"]},\n",
    "        \"dealer_name\": {\"type\": \"string\", \"rules\": [\"not_null\"]},\n",
    "        \"dealer_region\": {\"type\": \"string\", \"rules\": [\"not_null\"]},\n",
    "        \"company_id\": {\"type\": \"string\", \"rules\": [\"not_null\"]},\n",
    "        \"model\": {\"type\": \"string\", \"rules\": [\"not_null\"]},\n",
    "        \"engine\": {\"type\": \"string\", \"rules\": [\"not_null\"]},\n",
    "        \"transmission\": {\"type\": \"string\", \"rules\": [\"not_null\"]},\n",
    "        \"color\": {\"type\": \"string\", \"rules\": [\"not_null\"]},\n",
    "        \"body_style\": {\"type\": \"string\", \"rules\": [\"not_null\"]},\n",
    "        \"price_$\": {\"type\": \"int\", \"rules\": [\"greater_than_0\", \"not_null\"]},\n",
    "        \"company_name\": {\"type\": \"string\", \"rules\": [\"not_null\"]},\n",
    "        \"company_type\": {\"type\": \"string\", \"rules\": [\"not_null\"]},\n",
    "        \"founding_year\": {\"type\": \"int\", \"rules\": [\"not_null\"]},\n",
    "        \"headquarters\": {\"type\": \"string\", \"rules\": [\"not_null\"]},\n",
    "        \"name\": {\"type\": \"string\", \"rules\": [\"not_null\"]},\n",
    "        \"gender\": {\"type\": \"string\", \"rules\": [\"not_null\"]},\n",
    "        \"annual_income_$\": {\"type\": \"int\", \"rules\": [\"greater_than_0\", \"not_null\"]}\n",
    "    }\n",
    "}"
   ]
  },
  {
   "cell_type": "code",
   "execution_count": 0,
   "metadata": {
    "application/vnd.databricks.v1+cell": {
     "cellMetadata": {
      "byteLimit": 2048000,
      "rowLimit": 10000
     },
     "inputWidgets": {},
     "nuid": "e94af34c-f5de-4a22-ac9f-f098e4b9e68b",
     "showTitle": false,
     "tableResultSettingsMap": {},
     "title": ""
    }
   },
   "outputs": [
    {
     "output_type": "stream",
     "name": "stdout",
     "output_type": "stream",
     "text": [
      "All 7 contracts successfully saved in /Workspace/Users/masa.cirkovic@abo.fi/contracts/\n"
     ]
    }
   ],
   "source": [
    "contracts = {\n",
    "    \"bronze_car_sales_contract.json\": bronze_car_sales_contract,\n",
    "    \"bronze_companies_contract.json\": bronze_companies_contract,\n",
    "    \"bronze_customers_contract.json\": bronze_customers_contract,\n",
    "    \"silver_car_sales_contract.json\": silver_car_sales_contract,\n",
    "    \"silver_companies_contract.json\": silver_companies_contract,\n",
    "    \"silver_customers_contract.json\": silver_customers_contract,\n",
    "    \"golden_contract.json\": golden_contract\n",
    "}\n",
    "\n",
    "contract_path = base_path.split(\"file:\")[1] + \"contracts/\"\n",
    "os.makedirs(contract_path, exist_ok=True)\n",
    "\n",
    "# Save each contract to DBFS\n",
    "for filename, contract in contracts.items():\n",
    "    try:\n",
    "        with open(f\"{contract_path}{filename}\", \"w\") as file:\n",
    "            json.dump(contract, file, indent=4)\n",
    "        log_message(\"info\", \"data_contracts\", \"saving contracts\", f\"Saved at {contract_path}{filename}\")\n",
    "    except Exception as e:\n",
    "        log_message(\"error\", \"data_contracts\", \"saving contracts\", str(e))\n",
    "\n",
    "print(\"All 7 contracts successfully saved in\", contract_path)"
   ]
  },
  {
   "cell_type": "code",
   "execution_count": 0,
   "metadata": {
    "application/vnd.databricks.v1+cell": {
     "cellMetadata": {
      "byteLimit": 2048000,
      "rowLimit": 10000
     },
     "inputWidgets": {},
     "nuid": "45ca599b-6c60-49b6-a470-6980bb59caaf",
     "showTitle": false,
     "tableResultSettingsMap": {},
     "title": ""
    }
   },
   "outputs": [
    {
     "output_type": "display_data",
     "data": {
      "text/html": [
       "<style scoped>\n",
       "  .table-result-container {\n",
       "    max-height: 300px;\n",
       "    overflow: auto;\n",
       "  }\n",
       "  table, th, td {\n",
       "    border: 1px solid black;\n",
       "    border-collapse: collapse;\n",
       "  }\n",
       "  th, td {\n",
       "    padding: 5px;\n",
       "  }\n",
       "  th {\n",
       "    text-align: left;\n",
       "  }\n",
       "</style><div class='table-result-container'><table class='table-result'><thead style='background-color: white'><tr><th>path</th><th>name</th><th>size</th><th>modificationTime</th></tr></thead><tbody><tr><td>file:/Workspace/Users/masa.cirkovic@abo.fi/contracts/bronze_car_sales_contract.json</td><td>bronze_car_sales_contract.json</td><td>572</td><td>1742469590237</td></tr><tr><td>file:/Workspace/Users/masa.cirkovic@abo.fi/contracts/bronze_companies_contract.json</td><td>bronze_companies_contract.json</td><td>389</td><td>1742469590850</td></tr><tr><td>file:/Workspace/Users/masa.cirkovic@abo.fi/contracts/bronze_customers_contract.json</td><td>bronze_customers_contract.json</td><td>335</td><td>1742469591347</td></tr><tr><td>file:/Workspace/Users/masa.cirkovic@abo.fi/contracts/silver_car_sales_contract.json</td><td>silver_car_sales_contract.json</td><td>1562</td><td>1742469591800</td></tr><tr><td>file:/Workspace/Users/masa.cirkovic@abo.fi/contracts/silver_companies_contract.json</td><td>silver_companies_contract.json</td><td>786</td><td>1742469592148</td></tr><tr><td>file:/Workspace/Users/masa.cirkovic@abo.fi/contracts/silver_customers_contract.json</td><td>silver_customers_contract.json</td><td>673</td><td>1742469592477</td></tr><tr><td>file:/Workspace/Users/masa.cirkovic@abo.fi/contracts/golden_contract.json</td><td>golden_contract.json</td><td>2579</td><td>1742469592786</td></tr></tbody></table></div>"
      ]
     },
     "metadata": {
      "application/vnd.databricks.v1+output": {
       "addedWidgets": {},
       "aggData": [],
       "aggError": "",
       "aggOverflow": false,
       "aggSchema": [],
       "aggSeriesLimitReached": false,
       "aggType": "",
       "arguments": {},
       "columnCustomDisplayInfos": {},
       "data": [
        [
         "file:/Workspace/Users/masa.cirkovic@abo.fi/contracts/bronze_car_sales_contract.json",
         "bronze_car_sales_contract.json",
         572,
         1742469590237
        ],
        [
         "file:/Workspace/Users/masa.cirkovic@abo.fi/contracts/bronze_companies_contract.json",
         "bronze_companies_contract.json",
         389,
         1742469590850
        ],
        [
         "file:/Workspace/Users/masa.cirkovic@abo.fi/contracts/bronze_customers_contract.json",
         "bronze_customers_contract.json",
         335,
         1742469591347
        ],
        [
         "file:/Workspace/Users/masa.cirkovic@abo.fi/contracts/silver_car_sales_contract.json",
         "silver_car_sales_contract.json",
         1562,
         1742469591800
        ],
        [
         "file:/Workspace/Users/masa.cirkovic@abo.fi/contracts/silver_companies_contract.json",
         "silver_companies_contract.json",
         786,
         1742469592148
        ],
        [
         "file:/Workspace/Users/masa.cirkovic@abo.fi/contracts/silver_customers_contract.json",
         "silver_customers_contract.json",
         673,
         1742469592477
        ],
        [
         "file:/Workspace/Users/masa.cirkovic@abo.fi/contracts/golden_contract.json",
         "golden_contract.json",
         2579,
         1742469592786
        ]
       ],
       "datasetInfos": [],
       "dbfsResultPath": null,
       "isJsonSchema": true,
       "metadata": {},
       "overflow": false,
       "plotOptions": {
        "customPlotOptions": {},
        "displayType": "table",
        "pivotAggregation": null,
        "pivotColumns": null,
        "xColumns": null,
        "yColumns": null
       },
       "removedWidgets": [],
       "schema": [
        {
         "metadata": "{}",
         "name": "path",
         "type": "\"string\""
        },
        {
         "metadata": "{}",
         "name": "name",
         "type": "\"string\""
        },
        {
         "metadata": "{}",
         "name": "size",
         "type": "\"long\""
        },
        {
         "metadata": "{}",
         "name": "modificationTime",
         "type": "\"long\""
        }
       ],
       "type": "table"
      }
     },
     "output_type": "display_data"
    }
   ],
   "source": [
    "path = base_path + \"contracts/\"\n",
    "display(dbutils.fs.ls(path))"
   ]
  }
 ],
 "metadata": {
  "application/vnd.databricks.v1+notebook": {
   "computePreferences": null,
   "dashboards": [],
   "environmentMetadata": {
    "base_environment": "",
    "environment_version": "2"
   },
   "language": "python",
   "notebookMetadata": {
    "pythonIndentUnit": 4
   },
   "notebookName": "04 - Data Contracts",
   "widgets": {}
  },
  "language_info": {
   "name": "python"
  }
 },
 "nbformat": 4,
 "nbformat_minor": 0
}