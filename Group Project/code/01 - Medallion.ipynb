{
 "cells": [
  {
   "cell_type": "markdown",
   "metadata": {
    "application/vnd.databricks.v1+cell": {
     "cellMetadata": {
      "byteLimit": 2048000,
      "rowLimit": 10000
     },
     "inputWidgets": {},
     "nuid": "5abe660a-175d-4337-aed5-aafd2dd9ce64",
     "showTitle": false,
     "tableResultSettingsMap": {},
     "title": ""
    }
   },
   "source": [
    "0 0 * * * /usr/bin/python3 /path/to/ingestion_script.py\n",
    "\n",
    "Example command to be used to Automate data ingestion with a Cron Job. It would require this pipeline to be in a python file, instead of a notebook. We will not do that here but we provided the command for reference of how it would be done. This command would run part of this notebook which is related to the batch ingestion at midnight every day"
   ]
  },
  {
   "cell_type": "code",
   "execution_count": 0,
   "metadata": {
    "application/vnd.databricks.v1+cell": {
     "cellMetadata": {
      "byteLimit": 2048000,
      "rowLimit": 10000
     },
     "inputWidgets": {},
     "nuid": "ec17017b-1830-4b46-bb61-926f775deb20",
     "showTitle": false,
     "tableResultSettingsMap": {},
     "title": ""
    }
   },
   "outputs": [],
   "source": [
    "%load_ext autoreload\n",
    "%autoreload 2\n",
    "# Enables autoreload; learn more at https://docs.databricks.com/en/files/workspace-modules.html#autoreload-for-python-modules\n",
    "# To disable autoreload; run %autoreload 0"
   ]
  },
  {
   "cell_type": "markdown",
   "metadata": {
    "application/vnd.databricks.v1+cell": {
     "cellMetadata": {
      "byteLimit": 2048000,
      "rowLimit": 10000
     },
     "inputWidgets": {},
     "nuid": "f96fcdf3-e9b3-44d8-80e7-bc33a353b932",
     "showTitle": false,
     "tableResultSettingsMap": {},
     "title": ""
    }
   },
   "source": [
    "# Imports"
   ]
  },
  {
   "cell_type": "code",
   "execution_count": 0,
   "metadata": {
    "application/vnd.databricks.v1+cell": {
     "cellMetadata": {
      "byteLimit": 2048000,
      "rowLimit": 10000
     },
     "inputWidgets": {},
     "nuid": "ae850698-cb5a-401b-a631-5d589fe98dcc",
     "showTitle": false,
     "tableResultSettingsMap": {},
     "title": ""
    }
   },
   "outputs": [
    {
     "output_type": "display_data",
     "data": {
      "application/vnd.databricks.v1+autoreload_discoverability": {
       "error_modules": {},
       "mode": "modules_reloaded",
       "success_modules": [
        "logger"
       ]
      }
     },
     "metadata": {},
     "output_type": "display_data"
    }
   ],
   "source": [
    "from pyspark.sql import SparkSession\n",
    "from pyspark.sql.functions import col, regexp_replace\n",
    "from pyspark.sql import functions as F\n",
    "from pyspark.sql import types as T\n",
    "from pyspark.sql import Row\n",
    "from pyspark.sql.types import StructType, StructField, IntegerType, StringType, DateType, DoubleType\n",
    "from pyspark.sql import DataFrame\n",
    "import json\n",
    "import os\n",
    "import matplotlib.pyplot as plt\n",
    "import pandas as pd\n",
    "from difflib import get_close_matches\n",
    "from datetime import datetime\n",
    "import time\n",
    "from delta.tables import DeltaTable\n",
    "\n",
    "from logger import log_message"
   ]
  },
  {
   "cell_type": "markdown",
   "metadata": {
    "application/vnd.databricks.v1+cell": {
     "cellMetadata": {
      "byteLimit": 2048000,
      "rowLimit": 10000
     },
     "inputWidgets": {},
     "nuid": "cac03390-7408-4275-a55c-21b0ad94b4a1",
     "showTitle": false,
     "tableResultSettingsMap": {},
     "title": ""
    }
   },
   "source": [
    "#Functions"
   ]
  },
  {
   "cell_type": "code",
   "execution_count": 0,
   "metadata": {
    "application/vnd.databricks.v1+cell": {
     "cellMetadata": {
      "byteLimit": 2048000,
      "rowLimit": 10000
     },
     "inputWidgets": {},
     "nuid": "82d87346-0fd5-49d7-9206-18ad1ccbc0a2",
     "showTitle": false,
     "tableResultSettingsMap": {},
     "title": ""
    }
   },
   "outputs": [],
   "source": [
    "# Function to detect schema changes (with column mapping for renamed columns)\n",
    "def schema_evolution(new_df, reference_df):\n",
    "    # Extract data types from both DataFrames\n",
    "    new_dtypes = dict(new_df.dtypes)\n",
    "    ref_dtypes = dict(reference_df.dtypes)\n",
    "\n",
    "    # Detect new and dropped columns\n",
    "    new_cols = set(new_dtypes.keys()) - set(ref_dtypes.keys())\n",
    "    dropped_cols = set(ref_dtypes.keys()) - set(new_dtypes.keys())\n",
    "\n",
    "    # Detect type changes by matching similar column names\n",
    "    changed_types = {}\n",
    "    for new_col in new_dtypes:\n",
    "        closest_match = get_close_matches(new_col, ref_dtypes.keys(), n=1)\n",
    "        if closest_match:\n",
    "            ref_col = closest_match[0]\n",
    "            if ref_dtypes[ref_col] != new_dtypes[new_col]:\n",
    "                changed_types[new_col] = (ref_dtypes[ref_col], new_dtypes[new_col])\n",
    "\n",
    "    print(f\"New Columns: {new_cols}\")\n",
    "    print(f\"Dropped Columns: {dropped_cols}\")\n",
    "    print(f\"Changed Data Types: {changed_types}\")\n"
   ]
  },
  {
   "cell_type": "code",
   "execution_count": 0,
   "metadata": {
    "application/vnd.databricks.v1+cell": {
     "cellMetadata": {
      "byteLimit": 2048000,
      "rowLimit": 10000
     },
     "inputWidgets": {},
     "nuid": "fb2327e6-c51d-41a3-b11c-4f0a4850e11e",
     "showTitle": false,
     "tableResultSettingsMap": {},
     "title": ""
    }
   },
   "outputs": [],
   "source": [
    "def validate_schema(df, expected_schema):\n",
    "    schema1_dict = {field.name: field.dataType for field in df.schema.fields}\n",
    "    schema2_dict = {field.name: field.dataType for field in expected_schema.fields}\n",
    "\n",
    "    schema_same = True\n",
    "    for col in schema1_dict.keys() | schema2_dict.keys():\n",
    "        if schema1_dict.get(col) != schema2_dict.get(col):\n",
    "            print(f\"Column '{col}' has different types: {schema1_dict.get(col)} vs {schema2_dict.get(col)}\")\n",
    "            schema_same = False\n",
    "\n",
    "    if schema_same:\n",
    "        print(\"Schema is the same.\")\n",
    "        log_message(\"info\", \"medallion\", \"schema validation\", \"Schema validation passed\")\n",
    "        return True\n",
    "    else:\n",
    "        print(\"Schema is different.\")\n",
    "        log_message(\"warning\", \"medallion\", \"schema validation\", \"Schema validation failed\")\n",
    "        return False"
   ]
  },
  {
   "cell_type": "code",
   "execution_count": 0,
   "metadata": {
    "application/vnd.databricks.v1+cell": {
     "cellMetadata": {
      "byteLimit": 2048000,
      "rowLimit": 10000
     },
     "inputWidgets": {},
     "nuid": "23966292-54d2-46a4-82ce-e2668887d1ff",
     "showTitle": false,
     "tableResultSettingsMap": {},
     "title": ""
    }
   },
   "outputs": [],
   "source": [
    "def data_integrity_check(df, df_name, save_path):\n",
    "    \"\"\"\n",
    "    Performs data integrity checks on the given DataFrame:\n",
    "    - Identifies integer columns dynamically\n",
    "    - Checks for invalid values (e.g., negative integers)\n",
    "    - Checks for null values\n",
    "    - Checks for duplicates\n",
    "    - Removes invalid data and saves the cleaned DataFrame\n",
    "    \"\"\"\n",
    "    print(f\"\\nPerforming Data Integrity Checks for {df_name}...\")\n",
    "\n",
    "    # Identify integer columns\n",
    "    integer_columns = [field.name for field in df.schema.fields if field.dataType.simpleString() == \"int\"]\n",
    "\n",
    "    # 1. Check for Negative or Zero Values in Integer Columns\n",
    "    for col_name in integer_columns:\n",
    "        invalid_count = df.filter(F.col(col_name) < 0).count()\n",
    "        if invalid_count > 0:\n",
    "            print(f\"Invalid values in '{col_name}': {invalid_count}\")\n",
    "\n",
    "    # 2. Check for Null Values in Key Columns\n",
    "    null_values = df.select(\n",
    "        [F.count(F.when(F.col(c).isNull(), c)).alias(c) for c in df.columns]\n",
    "    )\n",
    "\n",
    "    # 3. Check for Duplicates\n",
    "    initial_count = df.count()\n",
    "    distinct_count = df.dropDuplicates().count()\n",
    "\n",
    "    # Display Results\n",
    "    print(f\"Null Value Check:\")\n",
    "    null_values.show()\n",
    "\n",
    "    if initial_count != distinct_count:\n",
    "        print(f\"Duplicate Rows Detected: {initial_count - distinct_count}\")\n",
    "    else:\n",
    "        print(\"No Duplicates Found\")\n",
    "\n",
    "    # Optional: Remove Invalid Data and Save the Cleaned Data\n",
    "    cleaned_df = df\n",
    "    for col_name in integer_columns:\n",
    "        cleaned_df = cleaned_df.filter(F.col(col_name) >= 0)\n",
    "\n",
    "    cleaned_df = cleaned_df.dropna().dropDuplicates()\n",
    "\n",
    "    # Save Cleaned Data\n",
    "    # Convert Spark DataFrame to Pandas DataFrame\n",
    "    pandas_df = cleaned_df.toPandas()\n",
    "\n",
    "    # Save as CSV\n",
    "    save_path = f\"{save_path}{df_name}.csv\"\n",
    "    pandas_df.to_csv(save_path, index=False)\n",
    "    print(f\"Cleaned {df_name} successfully saved at {save_path}\")\n",
    "    log_message(\"info\", \"medallion\", \"data integrity check\", f\"Cleaned {df_name} successfully saved at {save_path}\")"
   ]
  },
  {
   "cell_type": "code",
   "execution_count": 0,
   "metadata": {
    "application/vnd.databricks.v1+cell": {
     "cellMetadata": {
      "byteLimit": 2048000,
      "rowLimit": 10000
     },
     "inputWidgets": {},
     "nuid": "a1750b5f-6d0c-4b18-a6e9-e9f65df9eaa6",
     "showTitle": false,
     "tableResultSettingsMap": {},
     "title": ""
    }
   },
   "outputs": [],
   "source": [
    "base_path = \"file:/Workspace/Users/masa.cirkovic@abo.fi/\"\n",
    "raw_data_path = base_path + \"rawdata/\"\n",
    "bronze_path = base_path + \"medallion/bronze/\"\n",
    "silver_path = base_path + \"medallion/silver/\"\n",
    "gold_path = base_path + \"medallion/gold/\""
   ]
  },
  {
   "cell_type": "markdown",
   "metadata": {
    "application/vnd.databricks.v1+cell": {
     "cellMetadata": {
      "byteLimit": 2048000,
      "rowLimit": 10000
     },
     "inputWidgets": {},
     "nuid": "6818c0b9-86df-4c3b-864d-be6deb7091a1",
     "showTitle": false,
     "tableResultSettingsMap": {},
     "title": ""
    }
   },
   "source": [
    "# Bronze Layer (with Automated Batch Ingestion)"
   ]
  },
  {
   "cell_type": "code",
   "execution_count": 0,
   "metadata": {
    "application/vnd.databricks.v1+cell": {
     "cellMetadata": {
      "byteLimit": 2048000,
      "rowLimit": 10000
     },
     "inputWidgets": {},
     "nuid": "5bb9976f-61a8-47bf-80a2-a97ae3ec0583",
     "showTitle": false,
     "tableResultSettingsMap": {},
     "title": ""
    }
   },
   "outputs": [],
   "source": [
    "bronze_statistics_df = pd.DataFrame(columns=[\"file\", \"records\", \"size_bytes\", \"format\", \"ingestion_time_s\", \"timestamp\"])"
   ]
  },
  {
   "cell_type": "markdown",
   "metadata": {
    "application/vnd.databricks.v1+cell": {
     "cellMetadata": {
      "byteLimit": 2048000,
      "rowLimit": 10000
     },
     "inputWidgets": {},
     "nuid": "92415e6f-dbe4-4976-a3da-c249569495d1",
     "showTitle": false,
     "tableResultSettingsMap": {},
     "title": ""
    }
   },
   "source": [
    "## Car Sales Data"
   ]
  },
  {
   "cell_type": "code",
   "execution_count": 0,
   "metadata": {
    "application/vnd.databricks.v1+cell": {
     "cellMetadata": {
      "byteLimit": 2048000,
      "rowLimit": 10000
     },
     "inputWidgets": {},
     "nuid": "8780b971-b956-46af-a925-0db5ba64a1b5",
     "showTitle": false,
     "tableResultSettingsMap": {},
     "title": ""
    }
   },
   "outputs": [
    {
     "output_type": "stream",
     "name": "stdout",
     "output_type": "stream",
     "text": [
      "+---+------------+----------+--------------------+-------------+-------+----------+--------------------+------------+----------+----------+--------+\n|_c0|         car|      date|         dealer_name|dealer_region|company|     model|              engine|transmission| color_car|body_style| price_$|\n+---+------------+----------+--------------------+-------------+-------+----------+--------------------+------------+----------+----------+--------+\n|  0|C_CND_000001|2022-01-02|Buddy Storbeck's ...|   Middletown|CMP_001|Expedition|DoubleÂ Overhead ...|        Auto|     Black|       SUV|$26,000 |\n|  1|C_CND_000002|2022-01-02|    C & M Motors Inc|       Aurora|CMP_002|   Durango|DoubleÂ Overhead ...|        Auto|     Black|       SUV|$19,000 |\n|  2|C_CND_000003|2022-01-02|         Capitol KIA|   Greenville|CMP_003|  Eldorado|   Overhead Camshaft|      Manual|       Red| Passenger|$31,500 |\n|  3|C_CND_000004|2022-01-02|Chrysler of Tri-C...|        Pasco|CMP_004|    Celica|   Overhead Camshaft|      Manual|Pale White|       SUV|$14,000 |\n|  4|C_CND_000005|2022-01-02|   Chrysler Plymouth|   Janesville|CMP_005|        TL|DoubleÂ Overhead ...|        Auto|       Red| Hatchback|$24,500 |\n+---+------------+----------+--------------------+-------------+-------+----------+--------------------+------------+----------+----------+--------+\nonly showing top 5 rows\nroot\n |-- _c0: integer (nullable = true)\n |-- car: string (nullable = true)\n |-- date: date (nullable = true)\n |-- dealer_name: string (nullable = true)\n |-- dealer_region: string (nullable = true)\n |-- company: string (nullable = true)\n |-- model: string (nullable = true)\n |-- engine: string (nullable = true)\n |-- transmission: string (nullable = true)\n |-- color_car: string (nullable = true)\n |-- body_style: string (nullable = true)\n |-- price_$: string (nullable = true)\n\n"
     ]
    }
   ],
   "source": [
    "car_sales_path = raw_data_path + \"car_sales_data.csv\"\n",
    "\n",
    "# Read the raw car_sales data from CSV\n",
    "try:\n",
    "    start_time = time.time()\n",
    "    car_sales_df = spark.read.format(\"csv\") \\\n",
    "        .option(\"header\", \"true\") \\\n",
    "        .option(\"inferSchema\", \"true\") \\\n",
    "        .load(car_sales_path)\n",
    "    ingestion_time = time.time() - start_time\n",
    "\n",
    "    # Whitespaces in the columns names were giving error-> all spaces were changed with underlines\n",
    "    car_sales_df = car_sales_df.select([col(c).alias(c.replace(\" \", \"_\")) for c in car_sales_df.columns])\n",
    "\n",
    "    # Populate query statistics\n",
    "    size = os.path.getsize(car_sales_path.split(\"file:\")[1])\n",
    "    new_row = pd.DataFrame([{\n",
    "        \"file\": \"car_sales_data\",\n",
    "        \"records\": car_sales_df.count(),\n",
    "        \"size_bytes\": size,\n",
    "        \"format\": \"csv\",\n",
    "        \"ingestion_time_s\": ingestion_time,\n",
    "        \"timestamp\": datetime.now()\n",
    "    }])\n",
    "    bronze_statistics_df = pd.concat([bronze_statistics_df, new_row], ignore_index=True)\n",
    "\n",
    "    # Display the first 5 rows and schema\n",
    "    car_sales_df.show(5)\n",
    "    car_sales_df.printSchema() # Bronze folder path\n",
    "\n",
    "    log_message(\"info\", \"medallion\", \"bronze_ingestion\", f\"Raw car_sales_data successfully read\")\n",
    "except Exception as e:\n",
    "    print(f\"Error: {e}\")\n",
    "    log_message(\"error\", \"medallion\", \"bronze_ingestion\", f\"Error reading raw car_sales_data: {e}\")"
   ]
  },
  {
   "cell_type": "code",
   "execution_count": 0,
   "metadata": {
    "application/vnd.databricks.v1+cell": {
     "cellMetadata": {
      "byteLimit": 2048000,
      "rowLimit": 10000
     },
     "inputWidgets": {},
     "nuid": "4704e387-e39b-4c21-a92a-f3bf6c5c82a2",
     "showTitle": false,
     "tableResultSettingsMap": {},
     "title": ""
    }
   },
   "outputs": [
    {
     "output_type": "stream",
     "name": "stdout",
     "output_type": "stream",
     "text": [
      "Raw car_sales data successfully ingested into the Bronze Layer.\n+---+------------+----------+--------------------+-------------+-------+----------+--------------------+------------+----------+----------+--------+\n|_c0|         car|      date|         dealer_name|dealer_region|company|     model|              engine|transmission| color_car|body_style| price_$|\n+---+------------+----------+--------------------+-------------+-------+----------+--------------------+------------+----------+----------+--------+\n|  0|C_CND_000001|2022-01-02|Buddy Storbeck's ...|   Middletown|CMP_001|Expedition|DoubleÂ Overhead ...|        Auto|     Black|       SUV|$26,000 |\n|  1|C_CND_000002|2022-01-02|    C & M Motors Inc|       Aurora|CMP_002|   Durango|DoubleÂ Overhead ...|        Auto|     Black|       SUV|$19,000 |\n|  2|C_CND_000003|2022-01-02|         Capitol KIA|   Greenville|CMP_003|  Eldorado|   Overhead Camshaft|      Manual|       Red| Passenger|$31,500 |\n|  3|C_CND_000004|2022-01-02|Chrysler of Tri-C...|        Pasco|CMP_004|    Celica|   Overhead Camshaft|      Manual|Pale White|       SUV|$14,000 |\n|  4|C_CND_000005|2022-01-02|   Chrysler Plymouth|   Janesville|CMP_005|        TL|DoubleÂ Overhead ...|        Auto|       Red| Hatchback|$24,500 |\n+---+------------+----------+--------------------+-------------+-------+----------+--------------------+------------+----------+----------+--------+\nonly showing top 5 rows\n"
     ]
    }
   ],
   "source": [
    "bronze_car_sales_path = bronze_path + \"car_sales_data\"\n",
    "\n",
    "# Write raw data to Bronze Layer as a Delta table\n",
    "try:\n",
    "    car_sales_df.write.format(\"delta\") \\\n",
    "        .mode(\"overwrite\") \\\n",
    "        .option(\"overwriteSchema\", \"true\") \\\n",
    "        .save(bronze_car_sales_path)\n",
    "\n",
    "    print(\"Raw car_sales data successfully ingested into the Bronze Layer.\")\n",
    "\n",
    "    # Read back the data for confirmation\n",
    "    bronze_car_sales_df = spark.read.format(\"delta\").load(bronze_car_sales_path)\n",
    "    bronze_car_sales_df.show(5)\n",
    "\n",
    "    log_message(\"info\", \"medallion\", \"bronze_ingestion\", f\"Raw car_sales_data successfully ingested into the Bronze Layer\")\n",
    "except Exception as e:\n",
    "    print(f\"Error: {e}\")\n",
    "    log_message(\"error\", \"medallion\", \"bronze_ingestion\", f\"Error ingesting raw car_sales_data into the Bronze Layer: {e}\")"
   ]
  },
  {
   "cell_type": "markdown",
   "metadata": {
    "application/vnd.databricks.v1+cell": {
     "cellMetadata": {
      "byteLimit": 2048000,
      "rowLimit": 10000
     },
     "inputWidgets": {},
     "nuid": "9b74e3e7-d19e-45bf-90d6-1419bce315ee",
     "showTitle": false,
     "tableResultSettingsMap": {},
     "title": ""
    }
   },
   "source": [
    "## Companies Data"
   ]
  },
  {
   "cell_type": "code",
   "execution_count": 0,
   "metadata": {
    "application/vnd.databricks.v1+cell": {
     "cellMetadata": {
      "byteLimit": 2048000,
      "rowLimit": 10000
     },
     "inputWidgets": {},
     "nuid": "cba1b693-942c-4d26-91c6-59b80a872aa7",
     "showTitle": false,
     "tableResultSettingsMap": {},
     "title": ""
    }
   },
   "outputs": [
    {
     "output_type": "stream",
     "name": "stdout",
     "output_type": "stream",
     "text": [
      "+----------+------------+------------+-------------+-------------+\n|company_id|company_name|company_type|founding_year| headquarters|\n+----------+------------+------------+-------------+-------------+\n|   CMP_001|        Ford|     private|         1903|United States|\n|   CMP_002|       Dodge|    division|         1900|           US|\n|   CMP_003|    Cadillac|    division|         1902|United States|\n|   CMP_004|      Toyota|     private|         1937|        Japan|\n|   CMP_005|       Acura|    division|         1986|United States|\n+----------+------------+------------+-------------+-------------+\nonly showing top 5 rows\nroot\n |-- company_id: string (nullable = true)\n |-- company_name: string (nullable = true)\n |-- company_type: string (nullable = true)\n |-- founding_year: long (nullable = true)\n |-- headquarters: string (nullable = true)\n\n"
     ]
    }
   ],
   "source": [
    "companies_path = raw_data_path + \"companies_data.json\"\n",
    "\n",
    "# Read the raw companies data from JSON\n",
    "try:\n",
    "    start_time = time.time()\n",
    "    companies_df = spark.read.format(\"json\") \\\n",
    "        .option(\"inferSchema\", \"true\") \\\n",
    "        .load(companies_path)\n",
    "    ingestion_time = time.time() - start_time\n",
    "\n",
    "    # Whitespaces in the columns names were giving error-> all spaces were changed with underlines\n",
    "    companies_df = companies_df.select([col(c).alias(c.replace(\" \", \"_\")) for c in companies_df.columns])\n",
    "\n",
    "    # Populate query statistics\n",
    "    size = os.path.getsize(companies_path.split(\"file:\")[1])\n",
    "    new_row = pd.DataFrame([{\n",
    "        \"file\": \"companies_data\",\n",
    "        \"records\": companies_df.count(),\n",
    "        \"size_bytes\": size,\n",
    "        \"format\": \"json\",\n",
    "        \"ingestion_time_s\": ingestion_time,\n",
    "        \"timestamp\": datetime.now()\n",
    "    }])\n",
    "    bronze_statistics_df = pd.concat([bronze_statistics_df, new_row], ignore_index=True)\n",
    "\n",
    "    # Display the first 5 rows and schema\n",
    "    companies_df.show(5)\n",
    "    companies_df.printSchema()\n",
    "\n",
    "    log_message(\"info\", \"medallion\", \"bronze_ingestion\", f\"Raw companies_data successfully read\")\n",
    "except Exception as e:\n",
    "    print(f\"Error: {e}\")\n",
    "    log_message(\"error\", \"medallion\", \"bronze_ingestion\", f\"Error reading raw companies_data: {e}\")"
   ]
  },
  {
   "cell_type": "code",
   "execution_count": 0,
   "metadata": {
    "application/vnd.databricks.v1+cell": {
     "cellMetadata": {
      "byteLimit": 2048000,
      "rowLimit": 10000
     },
     "inputWidgets": {},
     "nuid": "72bc763a-8c84-4af8-94c8-1120a54c9ac4",
     "showTitle": false,
     "tableResultSettingsMap": {},
     "title": ""
    }
   },
   "outputs": [
    {
     "output_type": "stream",
     "name": "stdout",
     "output_type": "stream",
     "text": [
      "Raw company data successfully ingested into the Bronze Layer.\n+----------+------------+------------+-------------+-------------+\n|company_id|company_name|company_type|founding_year| headquarters|\n+----------+------------+------------+-------------+-------------+\n|   CMP_001|        Ford|     private|         1903|United States|\n|   CMP_002|       Dodge|    division|         1900|           US|\n|   CMP_003|    Cadillac|    division|         1902|United States|\n|   CMP_004|      Toyota|     private|         1937|        Japan|\n|   CMP_005|       Acura|    division|         1986|United States|\n+----------+------------+------------+-------------+-------------+\nonly showing top 5 rows\n"
     ]
    }
   ],
   "source": [
    "# Bronze folder path\n",
    "bronze_companies_path = bronze_path + \"companies_data\"\n",
    "\n",
    "# Write raw data to Bronze Layer as a Delta table\n",
    "try:\n",
    "    companies_df.write.format(\"delta\") \\\n",
    "        .mode(\"overwrite\") \\\n",
    "        .option(\"overwriteSchema\", \"true\") \\\n",
    "        .save(bronze_companies_path)\n",
    "\n",
    "    print(\"Raw company data successfully ingested into the Bronze Layer.\")\n",
    "\n",
    "    # Read back the data for confirmation\n",
    "    bronze_companies_df = spark.read.format(\"delta\").load(bronze_companies_path)\n",
    "    bronze_companies_df.show(5)\n",
    "\n",
    "    log_message(\"info\", \"medallion\", \"bronze_ingestion\", f\"Raw companies_data successfully ingested into the Bronze Layer\")\n",
    "except Exception as e:\n",
    "    print(f\"Error: {e}\")\n",
    "    log_message(\"error\", \"medallion\", \"bronze_ingestion\", f\"Error ingesting raw companies_data into the Bronze Layer: {e}\")"
   ]
  },
  {
   "cell_type": "markdown",
   "metadata": {
    "application/vnd.databricks.v1+cell": {
     "cellMetadata": {
      "byteLimit": 2048000,
      "rowLimit": 10000
     },
     "inputWidgets": {},
     "nuid": "1e359aac-3e79-4ea9-bf67-d62a2411ae08",
     "showTitle": false,
     "tableResultSettingsMap": {},
     "title": ""
    }
   },
   "source": [
    "## Customers Data"
   ]
  },
  {
   "cell_type": "code",
   "execution_count": 0,
   "metadata": {
    "application/vnd.databricks.v1+cell": {
     "cellMetadata": {
      "byteLimit": 2048000,
      "rowLimit": 10000
     },
     "inputWidgets": {},
     "nuid": "dea81e8a-b955-46e1-a4a7-ee7a7d21a059",
     "showTitle": false,
     "tableResultSettingsMap": {},
     "title": ""
    }
   },
   "outputs": [
    {
     "output_type": "stream",
     "name": "stdout",
     "output_type": "stream",
     "text": [
      "+------------+---------+------+-------------+\n|      car_id|     name|gender|annual_income|\n+------------+---------+------+-------------+\n|C_CND_000001|Geraldine|  Male|     $13,500 |\n|C_CND_000002|      Gia|  Male|  $1,480,000 |\n|C_CND_000003|   Gianna|  Male|  $1,035,000 |\n|C_CND_000004|  Giselle|  Male|     $13,500 |\n|C_CND_000005|    Grace|  Male|  $1,465,000 |\n+------------+---------+------+-------------+\nonly showing top 5 rows\nroot\n |-- car_id: string (nullable = true)\n |-- name: string (nullable = true)\n |-- gender: string (nullable = true)\n |-- annual_income: string (nullable = true)\n\n"
     ]
    }
   ],
   "source": [
    "customers_path = raw_data_path + \"customers_data.csv\"\n",
    "\n",
    "# Read the raw customers data from CSV\n",
    "try:\n",
    "    start_time = time.time()\n",
    "    customers_df = spark.read.format(\"csv\") \\\n",
    "        .option(\"header\", \"true\") \\\n",
    "        .option(\"inferSchema\", \"true\") \\\n",
    "        .load(customers_path)\n",
    "    ingestion_time = time.time() - start_time\n",
    "\n",
    "    # Whitespaces in the columns names were giving error-> all spaces were changed with underlines\n",
    "    customers_df = customers_df.select([col(c).alias(c.replace(\" \", \"_\")) for c in customers_df.columns])\n",
    "\n",
    "    # Populate query statistics\n",
    "    size = os.path.getsize(customers_path.split(\"file:\")[1])\n",
    "    new_row = pd.DataFrame([{\n",
    "        \"file\": \"customers_data\",\n",
    "        \"records\": customers_df.count(),\n",
    "        \"size_bytes\": size,\n",
    "        \"format\": \"csv\",\n",
    "        \"ingestion_time_s\": ingestion_time,\n",
    "        \"timestamp\": datetime.now()\n",
    "    }])\n",
    "    bronze_statistics_df = pd.concat([bronze_statistics_df, new_row], ignore_index=True)\n",
    "\n",
    "    # Display the first 5 rows and schema\n",
    "    customers_df.show(5)\n",
    "    customers_df.printSchema()\n",
    "\n",
    "    log_message(\"info\", \"medallion\", \"bronze_ingestion\", f\"Raw customers_data successfully read\")\n",
    "except Exception as e:\n",
    "    print(f\"Error: {e}\")\n",
    "    log_message(\"error\", \"medallion\", \"bronze_ingestion\", f\"Error reading raw customers_data: {e}\")"
   ]
  },
  {
   "cell_type": "code",
   "execution_count": 0,
   "metadata": {
    "application/vnd.databricks.v1+cell": {
     "cellMetadata": {
      "byteLimit": 2048000,
      "rowLimit": 10000
     },
     "inputWidgets": {},
     "nuid": "4cf9551d-b0be-44eb-b3c8-c162da00d4b2",
     "showTitle": false,
     "tableResultSettingsMap": {},
     "title": ""
    }
   },
   "outputs": [
    {
     "output_type": "stream",
     "name": "stdout",
     "output_type": "stream",
     "text": [
      "Raw customers data successfully ingested into the Bronze Layer.\n+------------+---------+------+-------------+\n|      car_id|     name|gender|annual_income|\n+------------+---------+------+-------------+\n|C_CND_000001|Geraldine|  Male|     $13,500 |\n|C_CND_000002|      Gia|  Male|  $1,480,000 |\n|C_CND_000003|   Gianna|  Male|  $1,035,000 |\n|C_CND_000004|  Giselle|  Male|     $13,500 |\n|C_CND_000005|    Grace|  Male|  $1,465,000 |\n+------------+---------+------+-------------+\nonly showing top 5 rows\n"
     ]
    }
   ],
   "source": [
    "bronze_customers_path = bronze_path + \"customers_data\"\n",
    "\n",
    "# Write raw data to Bronze Layer as a Delta table\n",
    "try:\n",
    "    customers_df.write.format(\"delta\") \\\n",
    "        .mode(\"overwrite\") \\\n",
    "        .option(\"overwriteSchema\", \"true\") \\\n",
    "        .save(bronze_customers_path)\n",
    "\n",
    "    print(\"Raw customers data successfully ingested into the Bronze Layer.\")\n",
    "\n",
    "    # Read back the data for confirmation\n",
    "    bronze_customers_df = spark.read.format(\"delta\").load(bronze_customers_path)\n",
    "    bronze_customers_df.show(5)\n",
    "\n",
    "    log_message(\"info\", \"medallion\", \"bronze_ingestion\", f\"Raw customers_data successfully ingested into the Bronze Layer\")\n",
    "except Exception as e:\n",
    "    print(f\"Error: {e}\")\n",
    "    log_message(\"error\", \"medallion\", \"bronze_ingestion\", f\"Error ingesting raw_customers data into the Bronze Layer: {e}\")"
   ]
  },
  {
   "cell_type": "code",
   "execution_count": 0,
   "metadata": {
    "application/vnd.databricks.v1+cell": {
     "cellMetadata": {
      "byteLimit": 2048000,
      "rowLimit": 10000
     },
     "inputWidgets": {},
     "nuid": "88f1fb57-ba2d-412e-9f12-0d815f183bf8",
     "showTitle": false,
     "tableResultSettingsMap": {},
     "title": ""
    }
   },
   "outputs": [
    {
     "output_type": "display_data",
     "data": {
      "text/html": [
       "<style scoped>\n",
       "  .table-result-container {\n",
       "    max-height: 300px;\n",
       "    overflow: auto;\n",
       "  }\n",
       "  table, th, td {\n",
       "    border: 1px solid black;\n",
       "    border-collapse: collapse;\n",
       "  }\n",
       "  th, td {\n",
       "    padding: 5px;\n",
       "  }\n",
       "  th {\n",
       "    text-align: left;\n",
       "  }\n",
       "</style><div class='table-result-container'><table class='table-result'><thead style='background-color: white'><tr><th>file</th><th>records</th><th>size_bytes</th><th>format</th><th>ingestion_time_s</th><th>timestamp</th></tr></thead><tbody><tr><td>car_sales_data</td><td>24183</td><td>3183621</td><td>csv</td><td>1.4347023963928223</td><td>2025-03-20T11:20:38.756914Z</td></tr><tr><td>companies_data</td><td>30</td><td>3666</td><td>json</td><td>0.7672467231750488</td><td>2025-03-20T11:20:47.309681Z</td></tr><tr><td>customers_data</td><td>23906</td><td>900887</td><td>csv</td><td>1.098609209060669</td><td>2025-03-20T11:20:54.300341Z</td></tr></tbody></table></div>"
      ]
     },
     "metadata": {
      "application/vnd.databricks.v1+output": {
       "addedWidgets": {},
       "aggData": [],
       "aggError": "",
       "aggOverflow": false,
       "aggSchema": [],
       "aggSeriesLimitReached": false,
       "aggType": "",
       "arguments": {},
       "columnCustomDisplayInfos": {},
       "data": [
        [
         "car_sales_data",
         24183,
         3183621,
         "csv",
         1.4347023963928223,
         "2025-03-20T11:20:38.756914Z"
        ],
        [
         "companies_data",
         30,
         3666,
         "json",
         0.7672467231750488,
         "2025-03-20T11:20:47.309681Z"
        ],
        [
         "customers_data",
         23906,
         900887,
         "csv",
         1.098609209060669,
         "2025-03-20T11:20:54.300341Z"
        ]
       ],
       "datasetInfos": [],
       "dbfsResultPath": null,
       "isJsonSchema": true,
       "metadata": {},
       "overflow": false,
       "plotOptions": {
        "customPlotOptions": {},
        "displayType": "table",
        "pivotAggregation": null,
        "pivotColumns": null,
        "xColumns": null,
        "yColumns": null
       },
       "removedWidgets": [],
       "schema": [
        {
         "metadata": "{}",
         "name": "file",
         "type": "\"string\""
        },
        {
         "metadata": "{}",
         "name": "records",
         "type": "\"long\""
        },
        {
         "metadata": "{}",
         "name": "size_bytes",
         "type": "\"long\""
        },
        {
         "metadata": "{}",
         "name": "format",
         "type": "\"string\""
        },
        {
         "metadata": "{}",
         "name": "ingestion_time_s",
         "type": "\"double\""
        },
        {
         "metadata": "{}",
         "name": "timestamp",
         "type": "\"timestamp\""
        }
       ],
       "type": "table"
      }
     },
     "output_type": "display_data"
    }
   ],
   "source": [
    "display(bronze_statistics_df)"
   ]
  },
  {
   "cell_type": "markdown",
   "metadata": {
    "application/vnd.databricks.v1+cell": {
     "cellMetadata": {
      "byteLimit": 2048000,
      "rowLimit": 10000
     },
     "inputWidgets": {},
     "nuid": "3f446ec9-0209-48df-8c3e-2205f859881a",
     "showTitle": false,
     "tableResultSettingsMap": {},
     "title": ""
    }
   },
   "source": [
    "# Silver Layer"
   ]
  },
  {
   "cell_type": "code",
   "execution_count": 0,
   "metadata": {
    "application/vnd.databricks.v1+cell": {
     "cellMetadata": {
      "byteLimit": 2048000,
      "rowLimit": 10000
     },
     "inputWidgets": {},
     "nuid": "10102631-48bf-460c-87a3-871ac118e141",
     "showTitle": false,
     "tableResultSettingsMap": {},
     "title": ""
    }
   },
   "outputs": [],
   "source": [
    "silver_statistics_df = pd.DataFrame(columns=[\"file\", \"old_records\", \"missing_values\", \"duplicates\", \"anomalies\", \"new_records\", \"timestamp\"])"
   ]
  },
  {
   "cell_type": "markdown",
   "metadata": {
    "application/vnd.databricks.v1+cell": {
     "cellMetadata": {
      "byteLimit": 2048000,
      "rowLimit": 10000
     },
     "inputWidgets": {},
     "nuid": "be06e061-6406-49c9-9f06-3bbd5a011b9c",
     "showTitle": false,
     "tableResultSettingsMap": {},
     "title": ""
    }
   },
   "source": [
    "## Car Sales Data"
   ]
  },
  {
   "cell_type": "code",
   "execution_count": 0,
   "metadata": {
    "application/vnd.databricks.v1+cell": {
     "cellMetadata": {
      "byteLimit": 2048000,
      "rowLimit": 10000
     },
     "inputWidgets": {},
     "nuid": "b9e1ac5f-80d6-4262-9f9e-8c8fc8d680ee",
     "showTitle": false,
     "tableResultSettingsMap": {},
     "title": ""
    }
   },
   "outputs": [],
   "source": [
    "silver_car_sales_df = bronze_car_sales_df.select(\"*\")"
   ]
  },
  {
   "cell_type": "markdown",
   "metadata": {
    "application/vnd.databricks.v1+cell": {
     "cellMetadata": {
      "byteLimit": 2048000,
      "rowLimit": 10000
     },
     "inputWidgets": {},
     "nuid": "2c2272a3-65a9-4262-80e4-845b755d3808",
     "showTitle": false,
     "tableResultSettingsMap": {},
     "title": ""
    }
   },
   "source": [
    "### Renaming Columns"
   ]
  },
  {
   "cell_type": "code",
   "execution_count": 0,
   "metadata": {
    "application/vnd.databricks.v1+cell": {
     "cellMetadata": {
      "byteLimit": 2048000,
      "rowLimit": 10000
     },
     "inputWidgets": {},
     "nuid": "e4e9a32b-1db0-45c4-a41e-8acb6b9efe8f",
     "showTitle": false,
     "tableResultSettingsMap": {},
     "title": ""
    }
   },
   "outputs": [
    {
     "output_type": "stream",
     "name": "stdout",
     "output_type": "stream",
     "text": [
      "Column `_c0` successfully removed.\n"
     ]
    }
   ],
   "source": [
    "# Drop the `_c0` column as it has already another id column\n",
    "silver_car_sales_df = silver_car_sales_df.drop(\"_c0\")\n",
    "\n",
    "print(\"Column `_c0` successfully removed.\")"
   ]
  },
  {
   "cell_type": "code",
   "execution_count": 0,
   "metadata": {
    "application/vnd.databricks.v1+cell": {
     "cellMetadata": {
      "byteLimit": 2048000,
      "rowLimit": 10000
     },
     "inputWidgets": {},
     "nuid": "10520a9f-2e91-4201-94e8-e086565cad48",
     "showTitle": false,
     "tableResultSettingsMap": {},
     "title": ""
    }
   },
   "outputs": [
    {
     "output_type": "execute_result",
     "data": {
      "text/plain": [
       "['car',\n",
       " 'date',\n",
       " 'dealer_name',\n",
       " 'dealer_region',\n",
       " 'company',\n",
       " 'model',\n",
       " 'engine',\n",
       " 'transmission',\n",
       " 'color_car',\n",
       " 'body_style',\n",
       " 'price_$']"
      ]
     },
     "execution_count": 777,
     "metadata": {},
     "output_type": "execute_result"
    }
   ],
   "source": [
    "silver_car_sales_df.columns"
   ]
  },
  {
   "cell_type": "code",
   "execution_count": 0,
   "metadata": {
    "application/vnd.databricks.v1+cell": {
     "cellMetadata": {
      "byteLimit": 2048000,
      "rowLimit": 10000
     },
     "inputWidgets": {},
     "nuid": "d05e7ffc-95de-496c-bf9a-eb28fd42ccee",
     "showTitle": false,
     "tableResultSettingsMap": {},
     "title": ""
    }
   },
   "outputs": [
    {
     "output_type": "execute_result",
     "data": {
      "text/plain": [
       "['car_id',\n",
       " 'date',\n",
       " 'dealer_name',\n",
       " 'dealer_region',\n",
       " 'company_id',\n",
       " 'model',\n",
       " 'engine',\n",
       " 'transmission',\n",
       " 'color',\n",
       " 'body_style',\n",
       " 'price_$']"
      ]
     },
     "execution_count": 778,
     "metadata": {},
     "output_type": "execute_result"
    }
   ],
   "source": [
    "rename_columns = {\n",
    "    'car': 'car_id',\n",
    "    'company': 'company_id',\n",
    "    'color_car': 'color',\n",
    "    'price': 'price_$'\n",
    "}\n",
    "\n",
    "# Apply renaming\n",
    "silver_car_sales_df = silver_car_sales_df.select([\n",
    "    F.col(c).alias(rename_columns.get(c, c).lower()) for c in silver_car_sales_df.columns\n",
    "])\n",
    "\n",
    "# Updated column names\n",
    "silver_car_sales_df.columns"
   ]
  },
  {
   "cell_type": "markdown",
   "metadata": {
    "application/vnd.databricks.v1+cell": {
     "cellMetadata": {
      "byteLimit": 2048000,
      "rowLimit": 10000
     },
     "inputWidgets": {},
     "nuid": "c10ddcfa-e3f0-4417-84c8-4663014f968c",
     "showTitle": false,
     "tableResultSettingsMap": {},
     "title": ""
    }
   },
   "source": [
    "### Changing Types"
   ]
  },
  {
   "cell_type": "code",
   "execution_count": 0,
   "metadata": {
    "application/vnd.databricks.v1+cell": {
     "cellMetadata": {
      "byteLimit": 2048000,
      "rowLimit": 10000
     },
     "inputWidgets": {},
     "nuid": "09db7042-fb63-4b80-beee-93e876f6fc35",
     "showTitle": false,
     "tableResultSettingsMap": {},
     "title": ""
    }
   },
   "outputs": [
    {
     "output_type": "execute_result",
     "data": {
      "text/plain": [
       "[('car_id', 'string'),\n",
       " ('date', 'date'),\n",
       " ('dealer_name', 'string'),\n",
       " ('dealer_region', 'string'),\n",
       " ('company_id', 'string'),\n",
       " ('model', 'string'),\n",
       " ('engine', 'string'),\n",
       " ('transmission', 'string'),\n",
       " ('color', 'string'),\n",
       " ('body_style', 'string'),\n",
       " ('price_$', 'string')]"
      ]
     },
     "execution_count": 779,
     "metadata": {},
     "output_type": "execute_result"
    }
   ],
   "source": [
    "silver_car_sales_df.dtypes"
   ]
  },
  {
   "cell_type": "code",
   "execution_count": 0,
   "metadata": {
    "application/vnd.databricks.v1+cell": {
     "cellMetadata": {
      "byteLimit": 2048000,
      "rowLimit": 10000
     },
     "inputWidgets": {},
     "nuid": "9c94e0ad-d5c7-4399-8b9f-ef1cfce35cdb",
     "showTitle": false,
     "tableResultSettingsMap": {},
     "title": ""
    }
   },
   "outputs": [
    {
     "output_type": "stream",
     "name": "stdout",
     "output_type": "stream",
     "text": [
      "+-------+\n|price_$|\n+-------+\n|  26000|\n|  19000|\n|  31500|\n|  14000|\n|  24500|\n+-------+\nonly showing top 5 rows\n"
     ]
    }
   ],
   "source": [
    "# Remove '$' symbol and convert to integer\n",
    "silver_car_sales_df = silver_car_sales_df.withColumn(\n",
    "    \"price_$\", \n",
    "    F.regexp_replace(\"price_$\", \"[$,]\", \"\").cast(\"int\")\n",
    ")\n",
    "\n",
    "# Confirm\n",
    "silver_car_sales_df.select(\"price_$\").show(5)"
   ]
  },
  {
   "cell_type": "markdown",
   "metadata": {
    "application/vnd.databricks.v1+cell": {
     "cellMetadata": {
      "byteLimit": 2048000,
      "rowLimit": 10000
     },
     "inputWidgets": {},
     "nuid": "61724189-79f4-4e3b-a8b1-99032b415464",
     "showTitle": false,
     "tableResultSettingsMap": {},
     "title": ""
    }
   },
   "source": [
    "### Checking Missing Values"
   ]
  },
  {
   "cell_type": "code",
   "execution_count": 0,
   "metadata": {
    "application/vnd.databricks.v1+cell": {
     "cellMetadata": {
      "byteLimit": 2048000,
      "rowLimit": 10000
     },
     "inputWidgets": {},
     "nuid": "89ad082e-61b6-461c-9a4a-a99d1e72a8ee",
     "showTitle": false,
     "tableResultSettingsMap": {},
     "title": ""
    }
   },
   "outputs": [
    {
     "output_type": "stream",
     "name": "stdout",
     "output_type": "stream",
     "text": [
      "+------+----+-----------+-------------+----------+-----+------+------------+-----+----------+-------+\n|car_id|date|dealer_name|dealer_region|company_id|model|engine|transmission|color|body_style|price_$|\n+------+----+-----------+-------------+----------+-----+------+------------+-----+----------+-------+\n|     0|   0|         13|            0|         3|   16|     5|           0|    2|         0|     24|\n+------+----+-----------+-------------+----------+-----+------+------------+-----+----------+-------+\n\n"
     ]
    }
   ],
   "source": [
    "# Count missing values in each column\n",
    "missing_values = silver_car_sales_df.select(\n",
    "    [F.count(F.when(F.col(c).isNull(), c)).alias(c) for c in silver_car_sales_df.columns]\n",
    ")\n",
    "\n",
    "missing_values_dict = missing_values.collect()[0].asDict()\n",
    "total_missing_values = sum(missing_values_dict.values())\n",
    "\n",
    "# Display the missing values\n",
    "missing_values.show()"
   ]
  },
  {
   "cell_type": "code",
   "execution_count": 0,
   "metadata": {
    "application/vnd.databricks.v1+cell": {
     "cellMetadata": {
      "byteLimit": 2048000,
      "rowLimit": 10000
     },
     "inputWidgets": {},
     "nuid": "2e4c6d7a-ddbc-4d11-89ea-a7ceadad7977",
     "showTitle": false,
     "tableResultSettingsMap": {},
     "title": ""
    }
   },
   "outputs": [
    {
     "output_type": "execute_result",
     "data": {
      "text/plain": [
       "63"
      ]
     },
     "execution_count": 782,
     "metadata": {},
     "output_type": "execute_result"
    }
   ],
   "source": [
    "total_missing_values"
   ]
  },
  {
   "cell_type": "code",
   "execution_count": 0,
   "metadata": {
    "application/vnd.databricks.v1+cell": {
     "cellMetadata": {
      "byteLimit": 2048000,
      "rowLimit": 10000
     },
     "inputWidgets": {},
     "nuid": "0469fb9b-a679-4d8d-b8b1-ea7361740166",
     "showTitle": false,
     "tableResultSettingsMap": {},
     "title": ""
    }
   },
   "outputs": [
    {
     "output_type": "stream",
     "name": "stdout",
     "output_type": "stream",
     "text": [
      "+------+----+-----------+-------------+----------+-----+------+------------+-----+----------+-------+\n|car_id|date|dealer_name|dealer_region|company_id|model|engine|transmission|color|body_style|price_$|\n+------+----+-----------+-------------+----------+-----+------+------------+-----+----------+-------+\n|     0|   0|          0|            0|         0|    0|     0|           0|    0|         0|      0|\n+------+----+-----------+-------------+----------+-----+------+------------+-----+----------+-------+\n\n"
     ]
    }
   ],
   "source": [
    "# Drop rows with missing values\n",
    "silver_car_sales_df = silver_car_sales_df.dropna()\n",
    "\n",
    "# Recheck missing values to confirm\n",
    "missing_values = silver_car_sales_df.select(\n",
    "    [F.count(F.when(F.col(c).isNull(), c)).alias(c) for c in silver_car_sales_df.columns]\n",
    ")\n",
    "missing_values.show()"
   ]
  },
  {
   "cell_type": "markdown",
   "metadata": {
    "application/vnd.databricks.v1+cell": {
     "cellMetadata": {
      "byteLimit": 2048000,
      "rowLimit": 10000
     },
     "inputWidgets": {},
     "nuid": "2a3af601-4f62-4954-b60f-1dd53498b48e",
     "showTitle": false,
     "tableResultSettingsMap": {},
     "title": ""
    }
   },
   "source": [
    "### Checking Duplicates"
   ]
  },
  {
   "cell_type": "code",
   "execution_count": 0,
   "metadata": {
    "application/vnd.databricks.v1+cell": {
     "cellMetadata": {
      "byteLimit": 2048000,
      "rowLimit": 10000
     },
     "inputWidgets": {},
     "nuid": "7d2bd62a-933e-4948-b8ab-f2b0a8a560e3",
     "showTitle": false,
     "tableResultSettingsMap": {},
     "title": ""
    }
   },
   "outputs": [
    {
     "output_type": "stream",
     "name": "stdout",
     "output_type": "stream",
     "text": [
      "Number of rows before removing duplicates: 24120\nNumber of rows after removing duplicates: 23819\n"
     ]
    }
   ],
   "source": [
    "# Print row count before removing duplicates\n",
    "old_records = silver_car_sales_df.count()\n",
    "print(f\"Number of rows before removing duplicates: {old_records}\")\n",
    "\n",
    "# Remove duplicates\n",
    "silver_car_sales_df = silver_car_sales_df.dropDuplicates()\n",
    "\n",
    "# Print row count after removing duplicates\n",
    "new_records = silver_car_sales_df.count()\n",
    "print(f\"Number of rows after removing duplicates: {new_records}\")\n",
    "\n",
    "duplicates = old_records - new_records"
   ]
  },
  {
   "cell_type": "markdown",
   "metadata": {
    "application/vnd.databricks.v1+cell": {
     "cellMetadata": {
      "byteLimit": 2048000,
      "rowLimit": 10000
     },
     "inputWidgets": {},
     "nuid": "ac7a15eb-b62b-465b-a38f-2e4cd74883c9",
     "showTitle": false,
     "tableResultSettingsMap": {},
     "title": ""
    }
   },
   "source": [
    "### Checking Anomalies"
   ]
  },
  {
   "cell_type": "code",
   "execution_count": 0,
   "metadata": {
    "application/vnd.databricks.v1+cell": {
     "cellMetadata": {
      "byteLimit": 2048000,
      "rowLimit": 10000
     },
     "inputWidgets": {},
     "nuid": "13b0239b-ba99-4019-bfe0-aa1ec8643fab",
     "showTitle": false,
     "tableResultSettingsMap": {},
     "title": ""
    }
   },
   "outputs": [
    {
     "output_type": "display_data",
     "data": {
      "text/html": [
       "<style scoped>\n",
       "  .table-result-container {\n",
       "    max-height: 300px;\n",
       "    overflow: auto;\n",
       "  }\n",
       "  table, th, td {\n",
       "    border: 1px solid black;\n",
       "    border-collapse: collapse;\n",
       "  }\n",
       "  th, td {\n",
       "    padding: 5px;\n",
       "  }\n",
       "  th {\n",
       "    text-align: left;\n",
       "  }\n",
       "</style><div class='table-result-container'><table class='table-result'><thead style='background-color: white'><tr><th>model</th></tr></thead><tbody><tr><td>Cirrus</td></tr><tr><td>Contour</td></tr><tr><td>Villager</td></tr><tr><td>RX300</td></tr><tr><td>SC</td></tr><tr><td>Cutlass</td></tr><tr><td>Camry</td></tr><tr><td>SL</td></tr><tr><td>Seville</td></tr><tr><td>Ram Wagon</td></tr><tr><td>Outback</td></tr><tr><td>300M</td></tr><tr><td>Grand Marquis</td></tr><tr><td>A6</td></tr><tr><td>Golf</td></tr><tr><td>Forester</td></tr><tr><td>Sentra</td></tr><tr><td>Cherokee</td></tr><tr><td>SLK</td></tr><tr><td>Focus</td></tr><tr><td>Wrangler</td></tr><tr><td>Passport</td></tr><tr><td>Sunfire</td></tr><tr><td>Ram Van</td></tr><tr><td>Durango</td></tr><tr><td>Lumina</td></tr><tr><td>LX470</td></tr><tr><td>A8</td></tr><tr><td>SW</td></tr><tr><td>Neon</td></tr><tr><td>Firebird</td></tr><tr><td>Montero Sport</td></tr><tr><td>Pathfinder</td></tr><tr><td>Continental</td></tr><tr><td>Boxter</td></tr><tr><td>Malibu</td></tr><tr><td>Mystique</td></tr><tr><td>Navigator</td></tr><tr><td>I30</td></tr><tr><td>Stratus</td></tr><tr><td>Taurus</td></tr><tr><td>5-Sep</td></tr><tr><td>3000GT</td></tr><tr><td>Aurora</td></tr><tr><td>S80</td></tr><tr><td>C-Class</td></tr><tr><td>Integra</td></tr><tr><td>Odyssey</td></tr><tr><td>Accord</td></tr><tr><td>ES300</td></tr><tr><td>Escort</td></tr><tr><td>3-Sep</td></tr><tr><td>Alero</td></tr><tr><td>Ram Pickup</td></tr><tr><td>F-Series</td></tr><tr><td>Sebring Coupe</td></tr><tr><td>LW</td></tr><tr><td>Mustang</td></tr><tr><td>Bonneville</td></tr><tr><td>LS400</td></tr><tr><td>328i</td></tr><tr><td>Eldorado</td></tr><tr><td>Cavalier</td></tr><tr><td>Grand Am</td></tr><tr><td>GS300</td></tr><tr><td>S70</td></tr><tr><td>Regal</td></tr><tr><td>Town car</td></tr><tr><td>Sebring Conv.</td></tr><tr><td>Celica</td></tr><tr><td>Sonata</td></tr><tr><td>Diamante</td></tr><tr><td>LHS</td></tr><tr><td>Camaro</td></tr><tr><td>GS400</td></tr><tr><td>Avalon</td></tr><tr><td>Bravada</td></tr><tr><td>TL</td></tr><tr><td>V70</td></tr><tr><td>GTI</td></tr><tr><td>Galant</td></tr><tr><td>A4</td></tr><tr><td>LeSabre</td></tr><tr><td>Corolla</td></tr><tr><td>S40</td></tr><tr><td>Civic</td></tr><tr><td>CR-V</td></tr><tr><td>Escalade</td></tr><tr><td>Windstar</td></tr><tr><td>Sienna</td></tr><tr><td>Carrera Cabrio</td></tr><tr><td>SLK230</td></tr><tr><td>E-Class</td></tr><tr><td>Impala</td></tr><tr><td>Maxima</td></tr><tr><td>Concorde</td></tr><tr><td>Explorer</td></tr><tr><td>RL</td></tr><tr><td>Beetle</td></tr><tr><td>Intrigue</td></tr><tr><td>Silhouette</td></tr><tr><td>CL500</td></tr><tr><td>Accent</td></tr><tr><td>CLK Coupe</td></tr><tr><td>LS</td></tr><tr><td>Corvette</td></tr><tr><td>RAV4</td></tr><tr><td>Caravan</td></tr><tr><td>528i</td></tr><tr><td>Sable</td></tr><tr><td>Cougar</td></tr><tr><td>Mountaineer</td></tr><tr><td>Eclipse</td></tr><tr><td>Quest</td></tr><tr><td>Breeze</td></tr><tr><td>Avenger</td></tr><tr><td>Prowler</td></tr><tr><td>Century</td></tr><tr><td>S-Class</td></tr><tr><td>Land Cruiser</td></tr><tr><td>Town & Country</td></tr><tr><td>Jetta</td></tr><tr><td>Tacoma</td></tr><tr><td>S-Type</td></tr><tr><td>Grand Cherokee</td></tr><tr><td>Frontier</td></tr><tr><td>Expedition</td></tr><tr><td>Crown Victoria</td></tr><tr><td>Intrepid</td></tr><tr><td>Xterra</td></tr><tr><td>Ranger</td></tr><tr><td>DeVille</td></tr><tr><td>Cabrio</td></tr><tr><td>Grand Prix</td></tr><tr><td>323i</td></tr><tr><td>C70</td></tr><tr><td>Altima</td></tr><tr><td>Voyager</td></tr><tr><td>Catera</td></tr><tr><td>Park Avenue</td></tr><tr><td>M-Class</td></tr><tr><td>Dakota</td></tr><tr><td>V40</td></tr><tr><td>Montero</td></tr><tr><td>Mirage</td></tr><tr><td>Monte Carlo</td></tr><tr><td>SL-Class</td></tr><tr><td>Carrera Coupe</td></tr><tr><td>Elantra</td></tr><tr><td>Passat</td></tr><tr><td>Viper</td></tr><tr><td>Prizm</td></tr><tr><td>Metro</td></tr><tr><td>4Runner</td></tr></tbody></table></div>"
      ]
     },
     "metadata": {
      "application/vnd.databricks.v1+output": {
       "addedWidgets": {},
       "aggData": [],
       "aggError": "",
       "aggOverflow": false,
       "aggSchema": [],
       "aggSeriesLimitReached": false,
       "aggType": "",
       "arguments": {},
       "columnCustomDisplayInfos": {},
       "data": [
        [
         "Cirrus"
        ],
        [
         "Contour"
        ],
        [
         "Villager"
        ],
        [
         "RX300"
        ],
        [
         "SC"
        ],
        [
         "Cutlass"
        ],
        [
         "Camry"
        ],
        [
         "SL"
        ],
        [
         "Seville"
        ],
        [
         "Ram Wagon"
        ],
        [
         "Outback"
        ],
        [
         "300M"
        ],
        [
         "Grand Marquis"
        ],
        [
         "A6"
        ],
        [
         "Golf"
        ],
        [
         "Forester"
        ],
        [
         "Sentra"
        ],
        [
         "Cherokee"
        ],
        [
         "SLK"
        ],
        [
         "Focus"
        ],
        [
         "Wrangler"
        ],
        [
         "Passport"
        ],
        [
         "Sunfire"
        ],
        [
         "Ram Van"
        ],
        [
         "Durango"
        ],
        [
         "Lumina"
        ],
        [
         "LX470"
        ],
        [
         "A8"
        ],
        [
         "SW"
        ],
        [
         "Neon"
        ],
        [
         "Firebird"
        ],
        [
         "Montero Sport"
        ],
        [
         "Pathfinder"
        ],
        [
         "Continental"
        ],
        [
         "Boxter"
        ],
        [
         "Malibu"
        ],
        [
         "Mystique"
        ],
        [
         "Navigator"
        ],
        [
         "I30"
        ],
        [
         "Stratus"
        ],
        [
         "Taurus"
        ],
        [
         "5-Sep"
        ],
        [
         "3000GT"
        ],
        [
         "Aurora"
        ],
        [
         "S80"
        ],
        [
         "C-Class"
        ],
        [
         "Integra"
        ],
        [
         "Odyssey"
        ],
        [
         "Accord"
        ],
        [
         "ES300"
        ],
        [
         "Escort"
        ],
        [
         "3-Sep"
        ],
        [
         "Alero"
        ],
        [
         "Ram Pickup"
        ],
        [
         "F-Series"
        ],
        [
         "Sebring Coupe"
        ],
        [
         "LW"
        ],
        [
         "Mustang"
        ],
        [
         "Bonneville"
        ],
        [
         "LS400"
        ],
        [
         "328i"
        ],
        [
         "Eldorado"
        ],
        [
         "Cavalier"
        ],
        [
         "Grand Am"
        ],
        [
         "GS300"
        ],
        [
         "S70"
        ],
        [
         "Regal"
        ],
        [
         "Town car"
        ],
        [
         "Sebring Conv."
        ],
        [
         "Celica"
        ],
        [
         "Sonata"
        ],
        [
         "Diamante"
        ],
        [
         "LHS"
        ],
        [
         "Camaro"
        ],
        [
         "GS400"
        ],
        [
         "Avalon"
        ],
        [
         "Bravada"
        ],
        [
         "TL"
        ],
        [
         "V70"
        ],
        [
         "GTI"
        ],
        [
         "Galant"
        ],
        [
         "A4"
        ],
        [
         "LeSabre"
        ],
        [
         "Corolla"
        ],
        [
         "S40"
        ],
        [
         "Civic"
        ],
        [
         "CR-V"
        ],
        [
         "Escalade"
        ],
        [
         "Windstar"
        ],
        [
         "Sienna"
        ],
        [
         "Carrera Cabrio"
        ],
        [
         "SLK230"
        ],
        [
         "E-Class"
        ],
        [
         "Impala"
        ],
        [
         "Maxima"
        ],
        [
         "Concorde"
        ],
        [
         "Explorer"
        ],
        [
         "RL"
        ],
        [
         "Beetle"
        ],
        [
         "Intrigue"
        ],
        [
         "Silhouette"
        ],
        [
         "CL500"
        ],
        [
         "Accent"
        ],
        [
         "CLK Coupe"
        ],
        [
         "LS"
        ],
        [
         "Corvette"
        ],
        [
         "RAV4"
        ],
        [
         "Caravan"
        ],
        [
         "528i"
        ],
        [
         "Sable"
        ],
        [
         "Cougar"
        ],
        [
         "Mountaineer"
        ],
        [
         "Eclipse"
        ],
        [
         "Quest"
        ],
        [
         "Breeze"
        ],
        [
         "Avenger"
        ],
        [
         "Prowler"
        ],
        [
         "Century"
        ],
        [
         "S-Class"
        ],
        [
         "Land Cruiser"
        ],
        [
         "Town & Country"
        ],
        [
         "Jetta"
        ],
        [
         "Tacoma"
        ],
        [
         "S-Type"
        ],
        [
         "Grand Cherokee"
        ],
        [
         "Frontier"
        ],
        [
         "Expedition"
        ],
        [
         "Crown Victoria"
        ],
        [
         "Intrepid"
        ],
        [
         "Xterra"
        ],
        [
         "Ranger"
        ],
        [
         "DeVille"
        ],
        [
         "Cabrio"
        ],
        [
         "Grand Prix"
        ],
        [
         "323i"
        ],
        [
         "C70"
        ],
        [
         "Altima"
        ],
        [
         "Voyager"
        ],
        [
         "Catera"
        ],
        [
         "Park Avenue"
        ],
        [
         "M-Class"
        ],
        [
         "Dakota"
        ],
        [
         "V40"
        ],
        [
         "Montero"
        ],
        [
         "Mirage"
        ],
        [
         "Monte Carlo"
        ],
        [
         "SL-Class"
        ],
        [
         "Carrera Coupe"
        ],
        [
         "Elantra"
        ],
        [
         "Passat"
        ],
        [
         "Viper"
        ],
        [
         "Prizm"
        ],
        [
         "Metro"
        ],
        [
         "4Runner"
        ]
       ],
       "datasetInfos": [],
       "dbfsResultPath": null,
       "isJsonSchema": true,
       "metadata": {},
       "overflow": false,
       "plotOptions": {
        "customPlotOptions": {},
        "displayType": "table",
        "pivotAggregation": null,
        "pivotColumns": null,
        "xColumns": null,
        "yColumns": null
       },
       "removedWidgets": [],
       "schema": [
        {
         "metadata": "{}",
         "name": "model",
         "type": "\"string\""
        }
       ],
       "type": "table"
      }
     },
     "output_type": "display_data"
    }
   ],
   "source": [
    "unique_models = silver_car_sales_df.select(\"model\").distinct()\n",
    "display(unique_models)"
   ]
  },
  {
   "cell_type": "code",
   "execution_count": 0,
   "metadata": {
    "application/vnd.databricks.v1+cell": {
     "cellMetadata": {
      "byteLimit": 2048000,
      "rowLimit": 10000
     },
     "inputWidgets": {},
     "nuid": "396b5198-56bb-4b1c-ae59-9004cfdf3742",
     "showTitle": false,
     "tableResultSettingsMap": {},
     "title": ""
    }
   },
   "outputs": [
    {
     "output_type": "display_data",
     "data": {
      "text/html": [
       "<style scoped>\n",
       "  .table-result-container {\n",
       "    max-height: 300px;\n",
       "    overflow: auto;\n",
       "  }\n",
       "  table, th, td {\n",
       "    border: 1px solid black;\n",
       "    border-collapse: collapse;\n",
       "  }\n",
       "  th, td {\n",
       "    padding: 5px;\n",
       "  }\n",
       "  th {\n",
       "    text-align: left;\n",
       "  }\n",
       "</style><div class='table-result-container'><table class='table-result'><thead style='background-color: white'><tr><th>engine</th></tr></thead><tbody><tr><td>Overhead Camshaft</td></tr><tr><td>Double Overhead Camshaft</td></tr></tbody></table></div>"
      ]
     },
     "metadata": {
      "application/vnd.databricks.v1+output": {
       "addedWidgets": {},
       "aggData": [],
       "aggError": "",
       "aggOverflow": false,
       "aggSchema": [],
       "aggSeriesLimitReached": false,
       "aggType": "",
       "arguments": {},
       "columnCustomDisplayInfos": {},
       "data": [
        [
         "Overhead Camshaft"
        ],
        [
         "Double Overhead Camshaft"
        ]
       ],
       "datasetInfos": [],
       "dbfsResultPath": null,
       "isJsonSchema": true,
       "metadata": {},
       "overflow": false,
       "plotOptions": {
        "customPlotOptions": {},
        "displayType": "table",
        "pivotAggregation": null,
        "pivotColumns": null,
        "xColumns": null,
        "yColumns": null
       },
       "removedWidgets": [],
       "schema": [
        {
         "metadata": "{}",
         "name": "engine",
         "type": "\"string\""
        }
       ],
       "type": "table"
      }
     },
     "output_type": "display_data"
    }
   ],
   "source": [
    "# Remove the 'Â' character from all string columns\n",
    "for column in silver_car_sales_df.columns:\n",
    "    if dict(silver_car_sales_df.dtypes)[column] == 'string':\n",
    "        silver_car_sales_df = silver_car_sales_df.withColumn(column, regexp_replace(col(column), \"Â\", \"\"))\n",
    "\n",
    "# Confirm the correction\n",
    "unique_engines = silver_car_sales_df.select(\"engine\").distinct()\n",
    "display(unique_engines)"
   ]
  },
  {
   "cell_type": "code",
   "execution_count": 0,
   "metadata": {
    "application/vnd.databricks.v1+cell": {
     "cellMetadata": {
      "byteLimit": 2048000,
      "rowLimit": 10000
     },
     "inputWidgets": {},
     "nuid": "fe3549c6-d108-4268-8596-4c00cd637569",
     "showTitle": false,
     "tableResultSettingsMap": {},
     "title": ""
    }
   },
   "outputs": [
    {
     "output_type": "stream",
     "name": "stdout",
     "output_type": "stream",
     "text": [
      "+-------+------------+--------------------+-------------+----------+------+--------------------+------------+-----+----------+------------------+\n|summary|      car_id|         dealer_name|dealer_region|company_id| model|              engine|transmission|color|body_style|           price_$|\n+-------+------------+--------------------+-------------+----------+------+--------------------+------------+-----+----------+------------------+\n|  count|       23819|               23819|        23819|     23819| 23819|               23819|       23819|23819|     23819|             23819|\n|   mean|        NULL|                NULL|         NULL|      NULL|  NULL|                NULL|        NULL| NULL|      NULL| 28112.83983374617|\n| stddev|        NULL|                NULL|         NULL|      NULL|  NULL|                NULL|        NULL| NULL|      NULL|15072.174983555142|\n|    min|C_CND_000001|Buddy Storbeck's ...|       Aurora|   CMP_001| 3-Sep|Double Overhead C...|        Auto|Black|   Hardtop|               140|\n|    max|C_CND_023906|           U-Haul CO|   Scottsdale|   CMP_030|Xterra|   Overhead Camshaft|      Manual|  Red|     Sedan|            390000|\n+-------+------------+--------------------+-------------+----------+------+--------------------+------------+-----+----------+------------------+\n\n"
     ]
    }
   ],
   "source": [
    "silver_car_sales_df.describe().show()"
   ]
  },
  {
   "cell_type": "code",
   "execution_count": 0,
   "metadata": {
    "application/vnd.databricks.v1+cell": {
     "cellMetadata": {
      "byteLimit": 2048000,
      "rowLimit": 10000
     },
     "inputWidgets": {},
     "nuid": "f7e2c1a1-3899-4e6a-9cef-38a8cd5b6ad2",
     "showTitle": false,
     "tableResultSettingsMap": {},
     "title": ""
    }
   },
   "outputs": [
    {
     "output_type": "stream",
     "name": "stdout",
     "output_type": "stream",
     "text": [
      "Top 10 Most Expensive Cars:\n+------------+----------+--------------------+-------------+----------+--------+--------------------+------------+----------+----------+-------+\n|      car_id|      date|         dealer_name|dealer_region|company_id|   model|              engine|transmission|     color|body_style|price_$|\n+------------+----------+--------------------+-------------+----------+--------+--------------------+------------+----------+----------+-------+\n|C_CND_003715|2022-07-05|Gartner Buick Hyu...|   Scottsdale|   CMP_009|   Sable|Double Overhead C...|        Auto|       Red|     Sedan| 390000|\n|C_CND_013261|2023-05-02|       Suburban Ford|       Aurora|   CMP_014|Passport|   Overhead Camshaft|      Manual|Pale White|   Hardtop| 270000|\n|C_CND_014554|2023-06-06|McKinney Dodge Ch...|   Scottsdale|   CMP_020|      LS|Double Overhead C...|        Auto|Pale White|     Sedan| 124000|\n|C_CND_007069|2022-10-20|Star Enterprises Inc|       Aurora|   CMP_003|Eldorado|   Overhead Camshaft|      Manual|     Black| Passenger|  85800|\n|C_CND_017130|2023-08-26|Rabun Used Car Sales|       Austin|   CMP_003|Eldorado|   Overhead Camshaft|      Manual|     Black| Passenger|  85601|\n|C_CND_000359|2022-02-06|Star Enterprises Inc|        Pasco|   CMP_004|    RAV4|   Overhead Camshaft|      Manual|     Black| Hatchback|  85600|\n|C_CND_013606|2023-05-10| Hatfield Volkswagen|        Pasco|   CMP_003|Eldorado|   Overhead Camshaft|      Manual|     Black| Passenger|  85600|\n|C_CND_011331|2023-02-14| Hatfield Volkswagen|        Pasco|   CMP_003|Eldorado|   Overhead Camshaft|      Manual|     Black| Passenger|  85500|\n|C_CND_009229|2022-12-04| Hatfield Volkswagen|        Pasco|   CMP_016|      A6|   Overhead Camshaft|      Manual|     Black|       SUV|  85500|\n|C_CND_017948|2023-09-08|   Chrysler Plymouth|   Janesville|   CMP_003|Eldorado|   Overhead Camshaft|      Manual|     Black| Passenger|  85400|\n+------------+----------+--------------------+-------------+----------+--------+--------------------+------------+----------+----------+-------+\nonly showing top 10 rows\n"
     ]
    }
   ],
   "source": [
    "print(\"Top 10 Most Expensive Cars:\")\n",
    "silver_car_sales_df.orderBy(F.desc(\"price_$\")).show(10)\n"
   ]
  },
  {
   "cell_type": "code",
   "execution_count": 0,
   "metadata": {
    "application/vnd.databricks.v1+cell": {
     "cellMetadata": {
      "byteLimit": 2048000,
      "rowLimit": 10000
     },
     "inputWidgets": {},
     "nuid": "cf337ab8-a256-4f2d-8481-3b065e19e806",
     "showTitle": false,
     "tableResultSettingsMap": {},
     "title": ""
    }
   },
   "outputs": [
    {
     "output_type": "stream",
     "name": "stdout",
     "output_type": "stream",
     "text": [
      "Top 10 Cheapest Cars:\n+------------+----------+--------------------+-------------+----------+--------+--------------------+------------+----------+----------+-------+\n|      car_id|      date|         dealer_name|dealer_region|company_id|   model|              engine|transmission|     color|body_style|price_$|\n+------------+----------+--------------------+-------------+----------+--------+--------------------+------------+----------+----------+-------+\n|C_CND_022577|2023-12-08|    Saab-Belle Dodge|   Middletown|   CMP_007|Cavalier|   Overhead Camshaft|      Manual|Pale White|       SUV|    140|\n|C_CND_020879|2023-11-11|   Chrysler Plymouth|   Middletown|   CMP_015|     I30|Double Overhead C...|        Auto|     Black|       SUV|    211|\n|C_CND_008971|2022-11-30|Clay Johnson Auto...|       Austin|   CMP_020|      SC|   Overhead Camshaft|      Manual|       Red|   Hardtop|   1000|\n|C_CND_013947|2023-05-23|Gartner Buick Hyu...|   Greenville|   CMP_001|  Taurus|Double Overhead C...|        Auto|     Black|       SUV|   1200|\n|C_CND_013997|2023-05-25|Rabun Used Car Sales|   Scottsdale|   CMP_021| S-Class|Double Overhead C...|        Auto|       Red|       SUV|   1450|\n|C_CND_014011|2023-05-26|Ryder Truck Renta...|   Middletown|   CMP_025|Town car|   Overhead Camshaft|      Manual|     Black| Hatchback|   1700|\n|C_CND_014021|2023-05-26|Ryder Truck Renta...|   Middletown|   CMP_021|   CL500|   Overhead Camshaft|      Manual|     Black|       SUV|   2200|\n|C_CND_017789|2023-09-05|Pitre Buick-Ponti...|        Pasco|   CMP_014| Odyssey|   Overhead Camshaft|      Manual|Pale White| Passenger|   4000|\n|C_CND_002880|2022-05-31|Rabun Used Car Sales|       Austin|   CMP_007|   Prizm|Double Overhead C...|        Auto|Pale White| Hatchback|   4200|\n|C_CND_013950|2023-05-23|McKinney Dodge Ch...|   Scottsdale|   CMP_001|Explorer|Double Overhead C...|        Auto|Pale White| Hatchback|   4200|\n+------------+----------+--------------------+-------------+----------+--------+--------------------+------------+----------+----------+-------+\nonly showing top 10 rows\n"
     ]
    }
   ],
   "source": [
    "print(\"Top 10 Cheapest Cars:\")\n",
    "silver_car_sales_df.orderBy(F.asc(\"price_$\")).show(10)\n"
   ]
  },
  {
   "cell_type": "code",
   "execution_count": 0,
   "metadata": {
    "application/vnd.databricks.v1+cell": {
     "cellMetadata": {
      "byteLimit": 2048000,
      "rowLimit": 10000
     },
     "inputWidgets": {},
     "nuid": "96279d36-7705-4bb1-99bf-26bf9b1548e7",
     "showTitle": false,
     "tableResultSettingsMap": {},
     "title": ""
    }
   },
   "outputs": [
    {
     "output_type": "stream",
     "name": "stdout",
     "output_type": "stream",
     "text": [
      "Number of rows before filtering: 23819\nFiltered dataset with valid price range (1000 - 100000)$.\nNumber of rows after filtering: 23813\n"
     ]
    }
   ],
   "source": [
    "old_records = silver_car_sales_df.count()\n",
    "print(f\"Number of rows before filtering: {old_records}\")\n",
    "\n",
    "# Filter data to keep prices between $1,000 and $100,000\n",
    "silver_car_sales_df = silver_car_sales_df.filter(\n",
    "    (F.col(\"price_$\") > 1000) & (F.col(\"price_$\") < 100000)\n",
    ")\n",
    "\n",
    "print(\"Filtered dataset with valid price range (1000 - 100000)$.\")\n",
    "new_records = silver_car_sales_df.count()\n",
    "print(f\"Number of rows after filtering: {new_records}\")\n",
    "\n",
    "anomalies = old_records - new_records"
   ]
  },
  {
   "cell_type": "markdown",
   "metadata": {
    "application/vnd.databricks.v1+cell": {
     "cellMetadata": {
      "byteLimit": 2048000,
      "rowLimit": 10000
     },
     "inputWidgets": {},
     "nuid": "3bb91b7f-6fde-4433-9ab0-c41d9cbb5c7e",
     "showTitle": false,
     "tableResultSettingsMap": {},
     "title": ""
    }
   },
   "source": [
    "### Saving"
   ]
  },
  {
   "cell_type": "code",
   "execution_count": 0,
   "metadata": {
    "application/vnd.databricks.v1+cell": {
     "cellMetadata": {
      "byteLimit": 2048000,
      "rowLimit": 10000
     },
     "inputWidgets": {},
     "nuid": "6ed49324-abb0-48d2-b7b6-d99e604610e6",
     "showTitle": false,
     "tableResultSettingsMap": {},
     "title": ""
    }
   },
   "outputs": [
    {
     "output_type": "stream",
     "name": "stdout",
     "output_type": "stream",
     "text": [
      "Cleaned car_sales data successfully stored in the Silver Layer.\n"
     ]
    }
   ],
   "source": [
    "# Define the Silver folder path\n",
    "silver_car_sales_path = silver_path + \"car_sales_data\"\n",
    "\n",
    "# Write cleaned data to the Silver Layer\n",
    "try:\n",
    "    silver_car_sales_df.write.format(\"delta\") \\\n",
    "        .mode(\"overwrite\") \\\n",
    "        .option(\"mergeSchema\", \"true\") \\\n",
    "        .save(silver_car_sales_path)\n",
    "\n",
    "    print(\"Cleaned car_sales data successfully stored in the Silver Layer.\")\n",
    "\n",
    "    log_message(\"info\", \"medallion\", \"silver_ingestion\", f\"Cleaned car_sales_data successfully stored in the Silver Layer\")\n",
    "except Exception as e:\n",
    "    print(f\"Error writing data to the Silver Layer: {e}\")\n",
    "    log_message(\"error\", \"medallion\", \"silver_ingestion\", f\"Error writing car_sales_data to the Silver Layer: {e}\")"
   ]
  },
  {
   "cell_type": "code",
   "execution_count": 0,
   "metadata": {
    "application/vnd.databricks.v1+cell": {
     "cellMetadata": {
      "byteLimit": 2048000,
      "rowLimit": 10000
     },
     "inputWidgets": {},
     "nuid": "ee472417-c479-4065-94ce-7f4da1e63a53",
     "showTitle": false,
     "tableResultSettingsMap": {},
     "title": ""
    }
   },
   "outputs": [],
   "source": [
    "# Populate statistics\n",
    "new_row = pd.DataFrame([{\n",
    "    \"file\": \"car_sales_data\",\n",
    "    \"old_records\": bronze_car_sales_df.count(),\n",
    "    \"missing_values\": total_missing_values,\n",
    "    \"duplicates\": duplicates,\n",
    "    \"anomalies\": anomalies,\n",
    "    \"new_records\": silver_car_sales_df.count(),\n",
    "    \"timestamp\": datetime.now()\n",
    "}])\n",
    "silver_statistics_df  = pd.concat([silver_statistics_df , new_row], ignore_index=True)"
   ]
  },
  {
   "cell_type": "markdown",
   "metadata": {
    "application/vnd.databricks.v1+cell": {
     "cellMetadata": {
      "byteLimit": 2048000,
      "rowLimit": 10000
     },
     "inputWidgets": {},
     "nuid": "4fb0df38-83f2-4c7b-bec1-8f762a9136e2",
     "showTitle": false,
     "tableResultSettingsMap": {},
     "title": ""
    }
   },
   "source": [
    "## Companies Data"
   ]
  },
  {
   "cell_type": "code",
   "execution_count": 0,
   "metadata": {
    "application/vnd.databricks.v1+cell": {
     "cellMetadata": {
      "byteLimit": 2048000,
      "rowLimit": 10000
     },
     "inputWidgets": {},
     "nuid": "4b0dcaf1-c314-4959-8036-d525a3e2bf99",
     "showTitle": false,
     "tableResultSettingsMap": {},
     "title": ""
    }
   },
   "outputs": [],
   "source": [
    "silver_companies_df = bronze_companies_df.select(\"*\")"
   ]
  },
  {
   "cell_type": "markdown",
   "metadata": {
    "application/vnd.databricks.v1+cell": {
     "cellMetadata": {
      "byteLimit": 2048000,
      "rowLimit": 10000
     },
     "inputWidgets": {},
     "nuid": "06da9d91-9e33-4b22-9cef-cd314d8b955a",
     "showTitle": false,
     "tableResultSettingsMap": {},
     "title": ""
    }
   },
   "source": [
    "### Renaming Columns"
   ]
  },
  {
   "cell_type": "code",
   "execution_count": 0,
   "metadata": {
    "application/vnd.databricks.v1+cell": {
     "cellMetadata": {
      "byteLimit": 2048000,
      "rowLimit": 10000
     },
     "inputWidgets": {},
     "nuid": "b3f856b0-78c6-4042-aa41-aaec1dd25a0e",
     "showTitle": false,
     "tableResultSettingsMap": {},
     "title": ""
    }
   },
   "outputs": [
    {
     "output_type": "execute_result",
     "data": {
      "text/plain": [
       "['company_id', 'company_name', 'company_type', 'founding_year', 'headquarters']"
      ]
     },
     "execution_count": 794,
     "metadata": {},
     "output_type": "execute_result"
    }
   ],
   "source": [
    "silver_companies_df.columns"
   ]
  },
  {
   "cell_type": "markdown",
   "metadata": {
    "application/vnd.databricks.v1+cell": {
     "cellMetadata": {
      "byteLimit": 2048000,
      "rowLimit": 10000
     },
     "inputWidgets": {},
     "nuid": "4ac61c72-03fb-4405-9877-8c9fd877d25d",
     "showTitle": false,
     "tableResultSettingsMap": {},
     "title": ""
    }
   },
   "source": [
    "All good."
   ]
  },
  {
   "cell_type": "markdown",
   "metadata": {
    "application/vnd.databricks.v1+cell": {
     "cellMetadata": {
      "byteLimit": 2048000,
      "rowLimit": 10000
     },
     "inputWidgets": {},
     "nuid": "39b1c50a-9f10-4f47-b976-77963aafbee4",
     "showTitle": false,
     "tableResultSettingsMap": {},
     "title": ""
    }
   },
   "source": [
    "### Changing Types"
   ]
  },
  {
   "cell_type": "code",
   "execution_count": 0,
   "metadata": {
    "application/vnd.databricks.v1+cell": {
     "cellMetadata": {
      "byteLimit": 2048000,
      "rowLimit": 10000
     },
     "inputWidgets": {},
     "nuid": "f4e360f9-6e8b-4c1d-be0a-41061712b5b9",
     "showTitle": false,
     "tableResultSettingsMap": {},
     "title": ""
    }
   },
   "outputs": [
    {
     "output_type": "execute_result",
     "data": {
      "text/plain": [
       "[('company_id', 'string'),\n",
       " ('company_name', 'string'),\n",
       " ('company_type', 'string'),\n",
       " ('founding_year', 'bigint'),\n",
       " ('headquarters', 'string')]"
      ]
     },
     "execution_count": 795,
     "metadata": {},
     "output_type": "execute_result"
    }
   ],
   "source": [
    "silver_companies_df.dtypes"
   ]
  },
  {
   "cell_type": "code",
   "execution_count": 0,
   "metadata": {
    "application/vnd.databricks.v1+cell": {
     "cellMetadata": {
      "byteLimit": 2048000,
      "rowLimit": 10000
     },
     "inputWidgets": {},
     "nuid": "ab4dfa74-4256-4e63-bcfd-609033e5b85f",
     "showTitle": false,
     "tableResultSettingsMap": {},
     "title": ""
    }
   },
   "outputs": [
    {
     "output_type": "execute_result",
     "data": {
      "text/plain": [
       "[('company_id', 'string'),\n",
       " ('company_name', 'string'),\n",
       " ('company_type', 'string'),\n",
       " ('founding_year', 'int'),\n",
       " ('headquarters', 'string')]"
      ]
     },
     "execution_count": 796,
     "metadata": {},
     "output_type": "execute_result"
    }
   ],
   "source": [
    "# Convert to integer\n",
    "silver_companies_df = silver_companies_df.withColumn(\n",
    "    \"founding_year\",\n",
    "    col(\"founding_year\").cast(\"int\")\n",
    ")\n",
    "\n",
    "# Confirm results\n",
    "silver_companies_df.dtypes"
   ]
  },
  {
   "cell_type": "markdown",
   "metadata": {
    "application/vnd.databricks.v1+cell": {
     "cellMetadata": {
      "byteLimit": 2048000,
      "rowLimit": 10000
     },
     "inputWidgets": {},
     "nuid": "5292bf93-1faf-4b60-ac6a-cb39910690bb",
     "showTitle": false,
     "tableResultSettingsMap": {},
     "title": ""
    }
   },
   "source": [
    "### Checking Missing Values"
   ]
  },
  {
   "cell_type": "code",
   "execution_count": 0,
   "metadata": {
    "application/vnd.databricks.v1+cell": {
     "cellMetadata": {
      "byteLimit": 2048000,
      "rowLimit": 10000
     },
     "inputWidgets": {},
     "nuid": "acbfbef2-acb3-434f-ab4c-ce0b05c3afd5",
     "showTitle": false,
     "tableResultSettingsMap": {},
     "title": ""
    }
   },
   "outputs": [
    {
     "output_type": "stream",
     "name": "stdout",
     "output_type": "stream",
     "text": [
      "+----------+------------+------------+-------------+------------+\n|company_id|company_name|company_type|founding_year|headquarters|\n+----------+------------+------------+-------------+------------+\n|         0|           0|           0|            0|           0|\n+----------+------------+------------+-------------+------------+\n\n"
     ]
    }
   ],
   "source": [
    "# Count missing values in each column\n",
    "missing_values = silver_companies_df.select(\n",
    "    [F.count(F.when(F.col(c).isNull(), c)).alias(c) for c in silver_companies_df.columns]\n",
    ")\n",
    "\n",
    "missing_values_dict = missing_values.collect()[0].asDict()\n",
    "total_missing_values = sum(missing_values_dict.values())\n",
    "\n",
    "# Display the missing values\n",
    "missing_values.show()"
   ]
  },
  {
   "cell_type": "markdown",
   "metadata": {
    "application/vnd.databricks.v1+cell": {
     "cellMetadata": {
      "byteLimit": 2048000,
      "rowLimit": 10000
     },
     "inputWidgets": {},
     "nuid": "d7d1dcc5-cd7b-4087-93b5-801e6dc35311",
     "showTitle": false,
     "tableResultSettingsMap": {},
     "title": ""
    }
   },
   "source": [
    "All good."
   ]
  },
  {
   "cell_type": "markdown",
   "metadata": {
    "application/vnd.databricks.v1+cell": {
     "cellMetadata": {
      "byteLimit": 2048000,
      "rowLimit": 10000
     },
     "inputWidgets": {},
     "nuid": "83619b79-9f03-4792-a504-bbcfcaf527c0",
     "showTitle": false,
     "tableResultSettingsMap": {},
     "title": ""
    }
   },
   "source": [
    "### Checking Duplicates"
   ]
  },
  {
   "cell_type": "code",
   "execution_count": 0,
   "metadata": {
    "application/vnd.databricks.v1+cell": {
     "cellMetadata": {
      "byteLimit": 2048000,
      "rowLimit": 10000
     },
     "inputWidgets": {},
     "nuid": "56c0e0fa-0afb-4f4a-99ff-cbd6d6dde093",
     "showTitle": false,
     "tableResultSettingsMap": {},
     "title": ""
    }
   },
   "outputs": [
    {
     "output_type": "stream",
     "name": "stdout",
     "output_type": "stream",
     "text": [
      "Number of rows before removing duplicates: 30\nNumber of rows after removing duplicates: 30\n"
     ]
    }
   ],
   "source": [
    "# Print row count before removing duplicates\n",
    "old_records = silver_companies_df.count()\n",
    "print(f\"Number of rows before removing duplicates: {old_records}\")\n",
    "\n",
    "# Remove duplicates\n",
    "silver_companies_df = silver_companies_df.dropDuplicates()\n",
    "\n",
    "# Print row count after removing duplicates\n",
    "new_records = silver_companies_df.count()\n",
    "print(f\"Number of rows after removing duplicates: {new_records}\")\n",
    "\n",
    "duplicates = old_records - new_records"
   ]
  },
  {
   "cell_type": "markdown",
   "metadata": {
    "application/vnd.databricks.v1+cell": {
     "cellMetadata": {
      "byteLimit": 2048000,
      "rowLimit": 10000
     },
     "inputWidgets": {},
     "nuid": "900b960b-a91f-4236-bbfc-69b8250dcb33",
     "showTitle": false,
     "tableResultSettingsMap": {},
     "title": ""
    }
   },
   "source": [
    "### Checking Anomalies"
   ]
  },
  {
   "cell_type": "code",
   "execution_count": 0,
   "metadata": {
    "application/vnd.databricks.v1+cell": {
     "cellMetadata": {
      "byteLimit": 2048000,
      "rowLimit": 10000
     },
     "inputWidgets": {},
     "nuid": "a2d6343f-7aea-416e-9eec-6bbc6609b722",
     "showTitle": false,
     "tableResultSettingsMap": {},
     "title": ""
    }
   },
   "outputs": [
    {
     "output_type": "stream",
     "name": "stdout",
     "output_type": "stream",
     "text": [
      "+--------------+\n|headquarters  |\n+--------------+\n|Sweden        |\n|Germany       |\n|United States |\n|US            |\n|South Korea   |\n|Japan         |\n|United Kingdom|\n+--------------+\n\n"
     ]
    }
   ],
   "source": [
    "unique_headquarters = silver_companies_df.select(\"headquarters\").distinct()\n",
    "unique_headquarters.show(truncate=False)\n"
   ]
  },
  {
   "cell_type": "code",
   "execution_count": 0,
   "metadata": {
    "application/vnd.databricks.v1+cell": {
     "cellMetadata": {
      "byteLimit": 2048000,
      "rowLimit": 10000
     },
     "inputWidgets": {},
     "nuid": "c2747a8e-ca70-4c8e-9c8a-f79668ae4dcd",
     "showTitle": false,
     "tableResultSettingsMap": {},
     "title": ""
    }
   },
   "outputs": [
    {
     "output_type": "stream",
     "name": "stdout",
     "output_type": "stream",
     "text": [
      "+--------------+\n|headquarters  |\n+--------------+\n|Sweden        |\n|Germany       |\n|United States |\n|South Korea   |\n|Japan         |\n|United Kingdom|\n+--------------+\n\n"
     ]
    }
   ],
   "source": [
    "# Standardize 'US' to 'United States' in the headquarters column\n",
    "silver_company_df = silver_companies_df.withColumn(\n",
    "    \"headquarters\", \n",
    "    F.when(F.col(\"headquarters\") == \"US\", \"United States\")\n",
    "     .otherwise(F.col(\"headquarters\"))\n",
    ")\n",
    "\n",
    "# Display updated headquarters values\n",
    "silver_company_df.select(\"headquarters\").distinct().show(truncate=False)"
   ]
  },
  {
   "cell_type": "code",
   "execution_count": 0,
   "metadata": {
    "application/vnd.databricks.v1+cell": {
     "cellMetadata": {
      "byteLimit": 2048000,
      "rowLimit": 10000
     },
     "inputWidgets": {},
     "nuid": "c537655f-c526-4175-bfeb-852d3a68465f",
     "showTitle": false,
     "tableResultSettingsMap": {},
     "title": ""
    }
   },
   "outputs": [
    {
     "output_type": "stream",
     "name": "stdout",
     "output_type": "stream",
     "text": [
      "+--------+--------+\n|Min Year|Max Year|\n+--------+--------+\n|    1897|    1989|\n+--------+--------+\n\n"
     ]
    }
   ],
   "source": [
    "silver_companies_df.select(\n",
    "    F.min(\"founding_year\").alias(\"Min Year\"),\n",
    "    F.max(\"founding_year\").alias(\"Max Year\")\n",
    ").show()\n",
    "\n",
    "anomalies = 0"
   ]
  },
  {
   "cell_type": "markdown",
   "metadata": {
    "application/vnd.databricks.v1+cell": {
     "cellMetadata": {
      "byteLimit": 2048000,
      "rowLimit": 10000
     },
     "inputWidgets": {},
     "nuid": "6af706c2-77b1-4bbf-bfc2-17488d54351d",
     "showTitle": false,
     "tableResultSettingsMap": {},
     "title": ""
    }
   },
   "source": [
    "### Saving"
   ]
  },
  {
   "cell_type": "code",
   "execution_count": 0,
   "metadata": {
    "application/vnd.databricks.v1+cell": {
     "cellMetadata": {
      "byteLimit": 2048000,
      "rowLimit": 10000
     },
     "inputWidgets": {},
     "nuid": "86949847-0032-4d02-81dd-d502e9ca1104",
     "showTitle": false,
     "tableResultSettingsMap": {},
     "title": ""
    }
   },
   "outputs": [
    {
     "output_type": "stream",
     "name": "stdout",
     "output_type": "stream",
     "text": [
      "Cleaned company data successfully stored in the Silver Layer.\n"
     ]
    }
   ],
   "source": [
    "# Define the Silver folder path\n",
    "silver_companies_path = silver_path + \"companies_data\"\n",
    "\n",
    "# Write cleaned data to the Silver Layer\n",
    "try:\n",
    "    silver_companies_df.write.format(\"delta\") \\\n",
    "        .mode(\"overwrite\") \\\n",
    "        .save(silver_companies_path)\n",
    "\n",
    "    print(\"Cleaned company data successfully stored in the Silver Layer.\")\n",
    "\n",
    "    log_message(\"info\", \"medallion\", \"silver_ingestion\", f\"Cleaned company_data successfully stored in the Silver Layer\")\n",
    "except Exception as e:\n",
    "    print(f\"Error writing data to the Silver Layer: {e}\")\n",
    "    log_message(\"error\", \"medallion\", \"silver_ingestion\", f\"Error writing company_data to the Silver Layer: {e}\")\n"
   ]
  },
  {
   "cell_type": "code",
   "execution_count": 0,
   "metadata": {
    "application/vnd.databricks.v1+cell": {
     "cellMetadata": {
      "byteLimit": 2048000,
      "rowLimit": 10000
     },
     "inputWidgets": {},
     "nuid": "3084ea94-79ad-4e0e-9ace-4d8722e4e80c",
     "showTitle": false,
     "tableResultSettingsMap": {},
     "title": ""
    }
   },
   "outputs": [],
   "source": [
    "# Populate statistics\n",
    "new_row = pd.DataFrame([{\n",
    "    \"file\": \"companies_data\",\n",
    "    \"old_records\": bronze_companies_df.count(),\n",
    "    \"missing_values\": total_missing_values,\n",
    "    \"duplicates\": duplicates,\n",
    "    \"anomalies\": anomalies,\n",
    "    \"new_records\": silver_companies_df.count(),\n",
    "    \"timestamp\": datetime.now()\n",
    "}])\n",
    "silver_statistics_df  = pd.concat([silver_statistics_df , new_row], ignore_index=True)"
   ]
  },
  {
   "cell_type": "markdown",
   "metadata": {
    "application/vnd.databricks.v1+cell": {
     "cellMetadata": {
      "byteLimit": 2048000,
      "rowLimit": 10000
     },
     "inputWidgets": {},
     "nuid": "ddea3248-5691-4a55-846b-6395895d5f30",
     "showTitle": false,
     "tableResultSettingsMap": {},
     "title": ""
    }
   },
   "source": [
    "## Customers Data"
   ]
  },
  {
   "cell_type": "code",
   "execution_count": 0,
   "metadata": {
    "application/vnd.databricks.v1+cell": {
     "cellMetadata": {
      "byteLimit": 2048000,
      "rowLimit": 10000
     },
     "inputWidgets": {},
     "nuid": "ee9481e6-5469-4ca9-8bf0-e793b650c873",
     "showTitle": false,
     "tableResultSettingsMap": {},
     "title": ""
    }
   },
   "outputs": [],
   "source": [
    "silver_customers_df = bronze_customers_df.select(\"*\")"
   ]
  },
  {
   "cell_type": "markdown",
   "metadata": {
    "application/vnd.databricks.v1+cell": {
     "cellMetadata": {
      "byteLimit": 2048000,
      "rowLimit": 10000
     },
     "inputWidgets": {},
     "nuid": "a11f8065-cf19-4790-8d7c-6dcf524d06ab",
     "showTitle": false,
     "tableResultSettingsMap": {},
     "title": ""
    }
   },
   "source": [
    "### Renaming Columns"
   ]
  },
  {
   "cell_type": "code",
   "execution_count": 0,
   "metadata": {
    "application/vnd.databricks.v1+cell": {
     "cellMetadata": {
      "byteLimit": 2048000,
      "rowLimit": 10000
     },
     "inputWidgets": {},
     "nuid": "8f3eeffd-e82c-4155-966a-a03dcc49d768",
     "showTitle": false,
     "tableResultSettingsMap": {},
     "title": ""
    }
   },
   "outputs": [
    {
     "output_type": "execute_result",
     "data": {
      "text/plain": [
       "['car_id', 'name', 'gender', 'annual_income']"
      ]
     },
     "execution_count": 805,
     "metadata": {},
     "output_type": "execute_result"
    }
   ],
   "source": [
    "silver_customers_df.columns"
   ]
  },
  {
   "cell_type": "code",
   "execution_count": 0,
   "metadata": {
    "application/vnd.databricks.v1+cell": {
     "cellMetadata": {
      "byteLimit": 2048000,
      "rowLimit": 10000
     },
     "inputWidgets": {},
     "nuid": "4f15bff6-2825-4c96-aea6-14954c62d2f5",
     "showTitle": false,
     "tableResultSettingsMap": {},
     "title": ""
    }
   },
   "outputs": [
    {
     "output_type": "execute_result",
     "data": {
      "text/plain": [
       "['car_id', 'name', 'gender', 'annual_income_$']"
      ]
     },
     "execution_count": 806,
     "metadata": {},
     "output_type": "execute_result"
    }
   ],
   "source": [
    "rename_columns = {\n",
    "    'annual_income': 'annual_income_$'\n",
    "}\n",
    "\n",
    "# Apply renaming\n",
    "silver_customers_df = silver_customers_df.select([\n",
    "    F.col(c).alias(rename_columns.get(c, c).lower()) for c in bronze_customers_df.columns\n",
    "])\n",
    "\n",
    "# Updated column names\n",
    "silver_customers_df.columns"
   ]
  },
  {
   "cell_type": "markdown",
   "metadata": {
    "application/vnd.databricks.v1+cell": {
     "cellMetadata": {
      "byteLimit": 2048000,
      "rowLimit": 10000
     },
     "inputWidgets": {},
     "nuid": "5483f836-4445-4708-a8c8-342e7ac7ffea",
     "showTitle": false,
     "tableResultSettingsMap": {},
     "title": ""
    }
   },
   "source": [
    "### Changing Types"
   ]
  },
  {
   "cell_type": "code",
   "execution_count": 0,
   "metadata": {
    "application/vnd.databricks.v1+cell": {
     "cellMetadata": {
      "byteLimit": 2048000,
      "rowLimit": 10000
     },
     "inputWidgets": {},
     "nuid": "e102c95e-beef-486b-8b92-e8fd1b12db8b",
     "showTitle": false,
     "tableResultSettingsMap": {},
     "title": ""
    }
   },
   "outputs": [
    {
     "output_type": "execute_result",
     "data": {
      "text/plain": [
       "[('car_id', 'string'),\n",
       " ('name', 'string'),\n",
       " ('gender', 'string'),\n",
       " ('annual_income_$', 'string')]"
      ]
     },
     "execution_count": 807,
     "metadata": {},
     "output_type": "execute_result"
    }
   ],
   "source": [
    "silver_customers_df.dtypes"
   ]
  },
  {
   "cell_type": "code",
   "execution_count": 0,
   "metadata": {
    "application/vnd.databricks.v1+cell": {
     "cellMetadata": {
      "byteLimit": 2048000,
      "rowLimit": 10000
     },
     "inputWidgets": {},
     "nuid": "26b4e9f9-807b-42d1-a778-26994d753d4d",
     "showTitle": false,
     "tableResultSettingsMap": {},
     "title": ""
    }
   },
   "outputs": [
    {
     "output_type": "stream",
     "name": "stdout",
     "output_type": "stream",
     "text": [
      "+---------------+\n|annual_income_$|\n+---------------+\n|          13500|\n|        1480000|\n|        1035000|\n|          13500|\n|        1465000|\n+---------------+\nonly showing top 5 rows\n"
     ]
    }
   ],
   "source": [
    "# Remove '$' symbol and convert to integer\n",
    "silver_customers_df = silver_customers_df.withColumn(\n",
    "    \"annual_income_$\",\n",
    "    F.regexp_replace(\"annual_income_$\", \"[$,]\", \"\").cast(\"int\")\n",
    ")\n",
    "\n",
    "# Confirm results\n",
    "silver_customers_df.select(\"annual_income_$\").show(5)"
   ]
  },
  {
   "cell_type": "markdown",
   "metadata": {
    "application/vnd.databricks.v1+cell": {
     "cellMetadata": {
      "byteLimit": 2048000,
      "rowLimit": 10000
     },
     "inputWidgets": {},
     "nuid": "14271f56-075b-46db-9ca6-f5c91dbfbb24",
     "showTitle": false,
     "tableResultSettingsMap": {},
     "title": ""
    }
   },
   "source": [
    "### Checking Missing Values"
   ]
  },
  {
   "cell_type": "code",
   "execution_count": 0,
   "metadata": {
    "application/vnd.databricks.v1+cell": {
     "cellMetadata": {
      "byteLimit": 2048000,
      "rowLimit": 10000
     },
     "inputWidgets": {},
     "nuid": "48e02a7b-412f-4886-a91b-65a8ce495a1f",
     "showTitle": false,
     "tableResultSettingsMap": {},
     "title": ""
    }
   },
   "outputs": [
    {
     "output_type": "stream",
     "name": "stdout",
     "output_type": "stream",
     "text": [
      "+------+----+------+---------------+\n|car_id|name|gender|annual_income_$|\n+------+----+------+---------------+\n|     0|  17|     3|              4|\n+------+----+------+---------------+\n\n"
     ]
    }
   ],
   "source": [
    "# Count missing values in each column\n",
    "missing_values = silver_customers_df.select(\n",
    "    [F.count(F.when(F.col(c).isNull(), c)).alias(c) for c in silver_customers_df.columns]\n",
    ")\n",
    "\n",
    "missing_values_dict = missing_values.collect()[0].asDict()\n",
    "total_missing_values = sum(missing_values_dict.values())\n",
    "\n",
    "# Display the missing values\n",
    "missing_values.show()"
   ]
  },
  {
   "cell_type": "code",
   "execution_count": 0,
   "metadata": {
    "application/vnd.databricks.v1+cell": {
     "cellMetadata": {
      "byteLimit": 2048000,
      "rowLimit": 10000
     },
     "inputWidgets": {},
     "nuid": "c792248b-c081-41f1-9f3d-d8fa685ed332",
     "showTitle": false,
     "tableResultSettingsMap": {},
     "title": ""
    }
   },
   "outputs": [
    {
     "output_type": "stream",
     "name": "stdout",
     "output_type": "stream",
     "text": [
      "+------+----+------+---------------+\n|car_id|name|gender|annual_income_$|\n+------+----+------+---------------+\n|     0|   0|     0|              0|\n+------+----+------+---------------+\n\n"
     ]
    }
   ],
   "source": [
    "# Drop rows with missing values\n",
    "silver_customers_df = silver_customers_df.dropna()\n",
    "\n",
    "# Recheck missing values to confirm\n",
    "missing_values = silver_customers_df.select(\n",
    "    [F.count(F.when(F.col(c).isNull(), c)).alias(c) for c in silver_customers_df.columns]\n",
    ")\n",
    "missing_values.show()\n"
   ]
  },
  {
   "cell_type": "markdown",
   "metadata": {
    "application/vnd.databricks.v1+cell": {
     "cellMetadata": {
      "byteLimit": 2048000,
      "rowLimit": 10000
     },
     "inputWidgets": {},
     "nuid": "74644cae-c70c-4a22-b931-cf171a346f47",
     "showTitle": false,
     "tableResultSettingsMap": {},
     "title": ""
    }
   },
   "source": [
    "### Checking Duplicates"
   ]
  },
  {
   "cell_type": "code",
   "execution_count": 0,
   "metadata": {
    "application/vnd.databricks.v1+cell": {
     "cellMetadata": {
      "byteLimit": 2048000,
      "rowLimit": 10000
     },
     "inputWidgets": {},
     "nuid": "a8eff3ea-aa05-440a-abea-ae53d9166f37",
     "showTitle": false,
     "tableResultSettingsMap": {},
     "title": ""
    }
   },
   "outputs": [
    {
     "output_type": "stream",
     "name": "stdout",
     "output_type": "stream",
     "text": [
      "Number of rows before removing duplicates: 23882\nNumber of rows after removing duplicates: 23479\n"
     ]
    }
   ],
   "source": [
    "# Print row count before removing duplicates\n",
    "old_records = silver_customers_df.count()\n",
    "print(f\"Number of rows before removing duplicates: {old_records}\")\n",
    "\n",
    "# Remove duplicates\n",
    "silver_customers_df = silver_customers_df.dropDuplicates()\n",
    "\n",
    "# Print row count after removing duplicates\n",
    "new_records = silver_customers_df.count()\n",
    "print(f\"Number of rows after removing duplicates: {new_records}\")\n",
    "\n",
    "duplicates = old_records - new_records"
   ]
  },
  {
   "cell_type": "markdown",
   "metadata": {
    "application/vnd.databricks.v1+cell": {
     "cellMetadata": {
      "byteLimit": 2048000,
      "rowLimit": 10000
     },
     "inputWidgets": {},
     "nuid": "dc1d1286-08ce-4872-88e2-03ce0c843703",
     "showTitle": false,
     "tableResultSettingsMap": {},
     "title": ""
    }
   },
   "source": [
    "### Checking Anomalies"
   ]
  },
  {
   "cell_type": "code",
   "execution_count": 0,
   "metadata": {
    "application/vnd.databricks.v1+cell": {
     "cellMetadata": {
      "byteLimit": 2048000,
      "rowLimit": 10000
     },
     "inputWidgets": {},
     "nuid": "68e0e02d-a2d0-4da9-afbf-ba1421beb96a",
     "showTitle": false,
     "tableResultSettingsMap": {},
     "title": ""
    }
   },
   "outputs": [
    {
     "output_type": "stream",
     "name": "stdout",
     "output_type": "stream",
     "text": [
      "Top 10 Highest Annual Incomes:\n+------------+-------+------+---------------+\n|      car_id|   name|gender|annual_income_$|\n+------------+-------+------+---------------+\n|C_CND_014027|  Assia|  Male|       11200000|\n|C_CND_015676|  Sofia|  Male|        8000000|\n|C_CND_006151|Makayla|  Male|        7650000|\n|C_CND_009997| Peyton|  Male|        6800000|\n|C_CND_022408|   Josh|  Male|        6600000|\n|C_CND_011608| Eileen|  Male|        6500000|\n|C_CND_007658| Kayden|Female|        6460000|\n|C_CND_014184|  Clara|Female|        6400000|\n|C_CND_008818|  Avery|  Male|        6400000|\n|C_CND_004756| Yaakov|Female|        6240000|\n+------------+-------+------+---------------+\nonly showing top 10 rows\nTop 10 Lowest Annual Incomes:\n+------------+---------+------+---------------+\n|      car_id|     name|gender|annual_income_$|\n+------------+---------+------+---------------+\n|C_CND_023452|     Andy|  Male|          10080|\n|C_CND_004647|     Axel|  Male|          13500|\n|C_CND_007236|    Dylan|  Male|          13500|\n|C_CND_004742|Alexandra|  Male|          13500|\n|C_CND_004589|  Elliana|  Male|          13500|\n|C_CND_004935|   Bonnie|  Male|          13500|\n|C_CND_005212| Michaela|  Male|          13500|\n|C_CND_005411|    Chase|  Male|          13500|\n|C_CND_000317|    Karla|Female|          13500|\n|C_CND_006199|Jencarlos|  Male|          13500|\n+------------+---------+------+---------------+\nonly showing top 10 rows\n"
     ]
    }
   ],
   "source": [
    "# Top 10 highest incomes\n",
    "print(\"Top 10 Highest Annual Incomes:\")\n",
    "silver_customers_df.orderBy(F.desc(\"annual_income_$\")).show(10)\n",
    "\n",
    "# Top 10 lowest incomes\n",
    "print(\"Top 10 Lowest Annual Incomes:\")\n",
    "silver_customers_df.orderBy(F.asc(\"annual_income_$\")).show(10)\n",
    "\n",
    "anomalies = 0\n"
   ]
  },
  {
   "cell_type": "markdown",
   "metadata": {
    "application/vnd.databricks.v1+cell": {
     "cellMetadata": {
      "byteLimit": 2048000,
      "rowLimit": 10000
     },
     "inputWidgets": {},
     "nuid": "8ec0c151-87e3-4539-9082-13b61f4c544e",
     "showTitle": false,
     "tableResultSettingsMap": {},
     "title": ""
    }
   },
   "source": [
    "### Saving"
   ]
  },
  {
   "cell_type": "code",
   "execution_count": 0,
   "metadata": {
    "application/vnd.databricks.v1+cell": {
     "cellMetadata": {
      "byteLimit": 2048000,
      "rowLimit": 10000
     },
     "inputWidgets": {},
     "nuid": "ed6e59e9-b3ef-4403-8da7-d9355ea60ac3",
     "showTitle": false,
     "tableResultSettingsMap": {},
     "title": ""
    }
   },
   "outputs": [
    {
     "output_type": "stream",
     "name": "stdout",
     "output_type": "stream",
     "text": [
      "Cleaned customers data successfully stored in the Silver Layer.\n"
     ]
    }
   ],
   "source": [
    "# Define the Silver folder path\n",
    "silver_customers_path = silver_path + \"customers_data\"\n",
    "\n",
    "# Write cleaned data to the Silver Layer\n",
    "try:\n",
    "    silver_customers_df.write.format(\"delta\") \\\n",
    "        .mode(\"overwrite\") \\\n",
    "        .save(silver_customers_path)\n",
    "\n",
    "    print(\"Cleaned customers data successfully stored in the Silver Layer.\")\n",
    "\n",
    "    log_message(\"info\", \"medallion\", \"silver_ingestion\", f\"Cleaned customers_data successfully stored in the Silver Layer\")\n",
    "except Exception as e:\n",
    "    print(f\"Error writing data to the Silver Layer: {e}\")\n",
    "    log_message(\"error\", \"medallion\", \"silver_ingestion\", f\"Error writing customers_data to the Silver Layer: {e}\")"
   ]
  },
  {
   "cell_type": "code",
   "execution_count": 0,
   "metadata": {
    "application/vnd.databricks.v1+cell": {
     "cellMetadata": {
      "byteLimit": 2048000,
      "rowLimit": 10000
     },
     "inputWidgets": {},
     "nuid": "0aa8004c-70a5-4909-b857-f84ce3a2639f",
     "showTitle": false,
     "tableResultSettingsMap": {},
     "title": ""
    }
   },
   "outputs": [],
   "source": [
    "# Populate statistics\n",
    "new_row = pd.DataFrame([{\n",
    "    \"file\": \"customers_data\",\n",
    "    \"old_records\": bronze_customers_df.count(),\n",
    "    \"missing_values\": total_missing_values,\n",
    "    \"duplicates\": duplicates,\n",
    "    \"anomalies\": anomalies,\n",
    "    \"new_records\": silver_customers_df.count(),\n",
    "    \"timestamp\": datetime.now()\n",
    "}])\n",
    "silver_statistics_df  = pd.concat([silver_statistics_df , new_row], ignore_index=True)"
   ]
  },
  {
   "cell_type": "code",
   "execution_count": 0,
   "metadata": {
    "application/vnd.databricks.v1+cell": {
     "cellMetadata": {
      "byteLimit": 2048000,
      "rowLimit": 10000
     },
     "inputWidgets": {},
     "nuid": "31b1a1e1-809a-4562-ab26-a2ab6c6a3af3",
     "showTitle": false,
     "tableResultSettingsMap": {},
     "title": ""
    }
   },
   "outputs": [
    {
     "output_type": "display_data",
     "data": {
      "text/html": [
       "<style scoped>\n",
       "  .table-result-container {\n",
       "    max-height: 300px;\n",
       "    overflow: auto;\n",
       "  }\n",
       "  table, th, td {\n",
       "    border: 1px solid black;\n",
       "    border-collapse: collapse;\n",
       "  }\n",
       "  th, td {\n",
       "    padding: 5px;\n",
       "  }\n",
       "  th {\n",
       "    text-align: left;\n",
       "  }\n",
       "</style><div class='table-result-container'><table class='table-result'><thead style='background-color: white'><tr><th>file</th><th>old_records</th><th>missing_values</th><th>duplicates</th><th>anomalies</th><th>new_records</th><th>timestamp</th></tr></thead><tbody><tr><td>car_sales_data</td><td>24183</td><td>63</td><td>301</td><td>6</td><td>23813</td><td>2025-03-20T11:21:29.577252Z</td></tr><tr><td>companies_data</td><td>30</td><td>0</td><td>0</td><td>0</td><td>30</td><td>2025-03-20T11:21:43.200653Z</td></tr><tr><td>customers_data</td><td>23906</td><td>24</td><td>403</td><td>0</td><td>23479</td><td>2025-03-20T11:21:58.588991Z</td></tr></tbody></table></div>"
      ]
     },
     "metadata": {
      "application/vnd.databricks.v1+output": {
       "addedWidgets": {},
       "aggData": [],
       "aggError": "",
       "aggOverflow": false,
       "aggSchema": [],
       "aggSeriesLimitReached": false,
       "aggType": "",
       "arguments": {},
       "columnCustomDisplayInfos": {},
       "data": [
        [
         "car_sales_data",
         24183,
         63,
         301,
         6,
         23813,
         "2025-03-20T11:21:29.577252Z"
        ],
        [
         "companies_data",
         30,
         0,
         0,
         0,
         30,
         "2025-03-20T11:21:43.200653Z"
        ],
        [
         "customers_data",
         23906,
         24,
         403,
         0,
         23479,
         "2025-03-20T11:21:58.588991Z"
        ]
       ],
       "datasetInfos": [],
       "dbfsResultPath": null,
       "isJsonSchema": true,
       "metadata": {},
       "overflow": false,
       "plotOptions": {
        "customPlotOptions": {},
        "displayType": "table",
        "pivotAggregation": null,
        "pivotColumns": null,
        "xColumns": null,
        "yColumns": null
       },
       "removedWidgets": [],
       "schema": [
        {
         "metadata": "{}",
         "name": "file",
         "type": "\"string\""
        },
        {
         "metadata": "{}",
         "name": "old_records",
         "type": "\"long\""
        },
        {
         "metadata": "{}",
         "name": "missing_values",
         "type": "\"long\""
        },
        {
         "metadata": "{}",
         "name": "duplicates",
         "type": "\"long\""
        },
        {
         "metadata": "{}",
         "name": "anomalies",
         "type": "\"long\""
        },
        {
         "metadata": "{}",
         "name": "new_records",
         "type": "\"long\""
        },
        {
         "metadata": "{}",
         "name": "timestamp",
         "type": "\"timestamp\""
        }
       ],
       "type": "table"
      }
     },
     "output_type": "display_data"
    }
   ],
   "source": [
    "display(silver_statistics_df)"
   ]
  },
  {
   "cell_type": "markdown",
   "metadata": {
    "application/vnd.databricks.v1+cell": {
     "cellMetadata": {
      "byteLimit": 2048000,
      "rowLimit": 10000
     },
     "inputWidgets": {},
     "nuid": "e35116f4-7a1d-4af0-a8b1-5ced47aa229d",
     "showTitle": false,
     "tableResultSettingsMap": {},
     "title": ""
    }
   },
   "source": [
    "# Schema Evolution"
   ]
  },
  {
   "cell_type": "markdown",
   "metadata": {
    "application/vnd.databricks.v1+cell": {
     "cellMetadata": {
      "byteLimit": 2048000,
      "rowLimit": 10000
     },
     "inputWidgets": {},
     "nuid": "163b0897-69d6-4c6a-a16e-2a1e325f9734",
     "showTitle": false,
     "tableResultSettingsMap": {},
     "title": ""
    }
   },
   "source": [
    "### Car Sales"
   ]
  },
  {
   "cell_type": "code",
   "execution_count": 0,
   "metadata": {
    "application/vnd.databricks.v1+cell": {
     "cellMetadata": {
      "byteLimit": 2048000,
      "rowLimit": 10000
     },
     "inputWidgets": {},
     "nuid": "26faa134-e4d3-4346-ae35-0e471904a816",
     "showTitle": false,
     "tableResultSettingsMap": {},
     "title": ""
    }
   },
   "outputs": [
    {
     "output_type": "stream",
     "name": "stdout",
     "output_type": "stream",
     "text": [
      "New Columns: {'company_id', 'car_id', 'color'}\nDropped Columns: {'car', 'company', '_c0', 'color_car'}\nChanged Data Types: {'price_$': ('string', 'int')}\n"
     ]
    }
   ],
   "source": [
    "schema_evolution(new_df=silver_car_sales_df, reference_df=bronze_car_sales_df)\n"
   ]
  },
  {
   "cell_type": "markdown",
   "metadata": {
    "application/vnd.databricks.v1+cell": {
     "cellMetadata": {
      "byteLimit": 2048000,
      "rowLimit": 10000
     },
     "inputWidgets": {},
     "nuid": "b01e0409-b057-47b9-8692-c93631067751",
     "showTitle": false,
     "tableResultSettingsMap": {},
     "title": ""
    }
   },
   "source": [
    "### Company"
   ]
  },
  {
   "cell_type": "code",
   "execution_count": 0,
   "metadata": {
    "application/vnd.databricks.v1+cell": {
     "cellMetadata": {
      "byteLimit": 2048000,
      "rowLimit": 10000
     },
     "inputWidgets": {},
     "nuid": "aa3c780c-3752-4ae2-b140-945ae4821786",
     "showTitle": false,
     "tableResultSettingsMap": {},
     "title": ""
    }
   },
   "outputs": [
    {
     "output_type": "stream",
     "name": "stdout",
     "output_type": "stream",
     "text": [
      "New Columns: set()\nDropped Columns: set()\nChanged Data Types: {'founding_year': ('bigint', 'int')}\n"
     ]
    }
   ],
   "source": [
    "schema_evolution(new_df=silver_company_df, reference_df=bronze_companies_df)"
   ]
  },
  {
   "cell_type": "markdown",
   "metadata": {
    "application/vnd.databricks.v1+cell": {
     "cellMetadata": {
      "byteLimit": 2048000,
      "rowLimit": 10000
     },
     "inputWidgets": {},
     "nuid": "6e00090d-7835-4af5-99b5-09b975d0fc7c",
     "showTitle": false,
     "tableResultSettingsMap": {},
     "title": ""
    }
   },
   "source": [
    "### Customers"
   ]
  },
  {
   "cell_type": "code",
   "execution_count": 0,
   "metadata": {
    "application/vnd.databricks.v1+cell": {
     "cellMetadata": {
      "byteLimit": 2048000,
      "rowLimit": 10000
     },
     "inputWidgets": {},
     "nuid": "f7971720-8142-4acb-aedb-818f4b712184",
     "showTitle": false,
     "tableResultSettingsMap": {},
     "title": ""
    }
   },
   "outputs": [
    {
     "output_type": "stream",
     "name": "stdout",
     "output_type": "stream",
     "text": [
      "New Columns: {'annual_income_$'}\nDropped Columns: {'annual_income'}\nChanged Data Types: {'annual_income_$': ('string', 'int')}\n"
     ]
    }
   ],
   "source": [
    "schema_evolution(new_df=silver_customers_df, reference_df=bronze_customers_df)"
   ]
  },
  {
   "cell_type": "markdown",
   "metadata": {
    "application/vnd.databricks.v1+cell": {
     "cellMetadata": {
      "byteLimit": 2048000,
      "rowLimit": 10000
     },
     "inputWidgets": {},
     "nuid": "9ee7ca41-a3d4-4ba8-b84b-499485e5b07b",
     "showTitle": false,
     "tableResultSettingsMap": {},
     "title": ""
    }
   },
   "source": [
    "# Golden Layer"
   ]
  },
  {
   "cell_type": "code",
   "execution_count": 0,
   "metadata": {
    "application/vnd.databricks.v1+cell": {
     "cellMetadata": {
      "byteLimit": 2048000,
      "rowLimit": 10000
     },
     "inputWidgets": {},
     "nuid": "cedb283a-d74c-4497-b1e3-2faba89681a5",
     "showTitle": false,
     "tableResultSettingsMap": {},
     "title": ""
    }
   },
   "outputs": [],
   "source": [
    "gold_statistics_df = pd.DataFrame(columns=[\"car_sale_records_before_joins\", \"car_sale_records_after_join_company\", \"car_sale_records_after_join_customers\", \"timestamp\"])"
   ]
  },
  {
   "cell_type": "markdown",
   "metadata": {
    "application/vnd.databricks.v1+cell": {
     "cellMetadata": {
      "byteLimit": 2048000,
      "rowLimit": 10000
     },
     "inputWidgets": {},
     "nuid": "e185acf4-619c-437d-8f1d-6a9d4106e42e",
     "showTitle": false,
     "tableResultSettingsMap": {},
     "title": ""
    }
   },
   "source": [
    "## Schema/Data Testing "
   ]
  },
  {
   "cell_type": "code",
   "execution_count": 0,
   "metadata": {
    "application/vnd.databricks.v1+cell": {
     "cellMetadata": {
      "byteLimit": 2048000,
      "rowLimit": 10000
     },
     "inputWidgets": {},
     "nuid": "dcad38f0-cc20-4a80-9d97-37a9956677d6",
     "showTitle": false,
     "tableResultSettingsMap": {},
     "title": ""
    }
   },
   "outputs": [],
   "source": [
    "# Load Silver Layer tables\n",
    "car_sales_path = silver_path + \"car_sales_data\"\n",
    "company_path = silver_path + \"companies_data\"\n",
    "customers_path = silver_path + \"customers_data\"\n",
    "\n",
    "car_sales_df = spark.read.format(\"delta\").load(car_sales_path)\n",
    "company_df = spark.read.format(\"delta\").load(company_path)\n",
    "customers_df = spark.read.format(\"delta\").load(customers_path)"
   ]
  },
  {
   "cell_type": "code",
   "execution_count": 0,
   "metadata": {
    "application/vnd.databricks.v1+cell": {
     "cellMetadata": {
      "byteLimit": 2048000,
      "rowLimit": 10000
     },
     "inputWidgets": {},
     "nuid": "2e73d8be-f496-44e5-9bab-6ec0a80b1142",
     "showTitle": false,
     "tableResultSettingsMap": {},
     "title": ""
    }
   },
   "outputs": [],
   "source": [
    "car_sales_expected_schema = StructType([\n",
    "    StructField(\"car_id\", StringType(), True),\n",
    "    StructField(\"date\", DateType(), True),\n",
    "    StructField(\"dealer_name\", StringType(), True),\n",
    "    StructField(\"dealer_region\", StringType(), True),\n",
    "    StructField(\"company_id\", StringType(), True),\n",
    "    StructField(\"model\", StringType(), True),\n",
    "    StructField(\"engine\", StringType(), True),\n",
    "    StructField(\"transmission\", StringType(), True),\n",
    "    StructField(\"color\", StringType(), True),\n",
    "    StructField(\"body_style\", StringType(), True),\n",
    "    StructField(\"price_$\", IntegerType(), True)  \n",
    "])\n",
    "\n",
    "companies_expected_schema = StructType([\n",
    "    StructField(\"company_id\", StringType(), True),    \n",
    "    StructField(\"company_name\", StringType(), True),  \n",
    "    StructField(\"company_type\", StringType(), True),   \n",
    "    StructField(\"founding_year\", IntegerType(), True), \n",
    "    StructField(\"headquarters\", StringType(), True)   \n",
    "])\n",
    "\n",
    "customers_expected_schema = StructType([\n",
    "    StructField(\"car_id\", StringType(), True),       \n",
    "    StructField(\"name\", StringType(), True),         \n",
    "    StructField(\"gender\", StringType(), True),       \n",
    "    StructField(\"annual_income_$\", IntegerType(), True) \n",
    "])"
   ]
  },
  {
   "cell_type": "code",
   "execution_count": 0,
   "metadata": {
    "application/vnd.databricks.v1+cell": {
     "cellMetadata": {
      "byteLimit": 2048000,
      "rowLimit": 10000
     },
     "inputWidgets": {},
     "nuid": "4cfdb3e1-5c39-485d-b429-a58cc35f23cf",
     "showTitle": false,
     "tableResultSettingsMap": {},
     "title": ""
    }
   },
   "outputs": [
    {
     "output_type": "stream",
     "name": "stdout",
     "output_type": "stream",
     "text": [
      "Validating car_sales_df schema:\nSchema is the same.\n\nPerforming Data Integrity Checks for car_sales_data...\nNull Value Check:\n+------+----+-----------+-------------+----------+-----+------+------------+-----+----------+-------+\n|car_id|date|dealer_name|dealer_region|company_id|model|engine|transmission|color|body_style|price_$|\n+------+----+-----------+-------------+----------+-----+------+------------+-----+----------+-------+\n|     0|   0|          0|            0|         0|    0|     0|           0|    0|         0|      0|\n+------+----+-----------+-------------+----------+-----+------+------------+-----+----------+-------+\n\nNo Duplicates Found\nCleaned car_sales_data successfully saved at /Workspace/Users/masa.cirkovic@abo.fi/processed_data/car_sales_data.csv\n\nValidating companies_df schema:\nSchema is the same.\n\nPerforming Data Integrity Checks for companies_data...\nNull Value Check:\n+----------+------------+------------+-------------+------------+\n|company_id|company_name|company_type|founding_year|headquarters|\n+----------+------------+------------+-------------+------------+\n|         0|           0|           0|            0|           0|\n+----------+------------+------------+-------------+------------+\n\nNo Duplicates Found\nCleaned companies_data successfully saved at /Workspace/Users/masa.cirkovic@abo.fi/processed_data/companies_data.csv\n\nValidating customers_df schema:\nSchema is the same.\n\nPerforming Data Integrity Checks for customers_data...\nNull Value Check:\n+------+----+------+---------------+\n|car_id|name|gender|annual_income_$|\n+------+----+------+---------------+\n|     0|   0|     0|              0|\n+------+----+------+---------------+\n\nNo Duplicates Found\nCleaned customers_data successfully saved at /Workspace/Users/masa.cirkovic@abo.fi/processed_data/customers_data.csv\n"
     ]
    }
   ],
   "source": [
    "# Automated Testing of Schema / Data\n",
    "save_path = os.path.join(base_path.split(\"file:\")[1], \"processed_data/\")\n",
    "os.makedirs(save_path, exist_ok=True)\n",
    "\n",
    "print(\"Validating car_sales_df schema:\")\n",
    "validate_schema(silver_car_sales_df, car_sales_expected_schema)\n",
    "data_integrity_check(silver_car_sales_df, \"car_sales_data\", save_path=save_path)\n",
    "\n",
    "print(\"\\nValidating companies_df schema:\")\n",
    "validate_schema(silver_companies_df, companies_expected_schema)\n",
    "data_integrity_check(silver_companies_df, \"companies_data\", save_path=save_path)\n",
    "\n",
    "print(\"\\nValidating customers_df schema:\")\n",
    "validate_schema(silver_customers_df, customers_expected_schema)\n",
    "data_integrity_check(silver_customers_df, \"customers_data\", save_path=save_path)"
   ]
  },
  {
   "cell_type": "markdown",
   "metadata": {
    "application/vnd.databricks.v1+cell": {
     "cellMetadata": {
      "byteLimit": 2048000,
      "rowLimit": 10000
     },
     "inputWidgets": {},
     "nuid": "16c2d31c-f750-4bd5-882b-a16bfe8faadf",
     "showTitle": false,
     "tableResultSettingsMap": {},
     "title": ""
    }
   },
   "source": [
    "## Joining Data"
   ]
  },
  {
   "cell_type": "code",
   "execution_count": 0,
   "metadata": {
    "application/vnd.databricks.v1+cell": {
     "cellMetadata": {
      "byteLimit": 2048000,
      "rowLimit": 10000
     },
     "inputWidgets": {},
     "nuid": "b74be7a2-1e93-43e5-b171-dbdc1f11d2b8",
     "showTitle": false,
     "tableResultSettingsMap": {},
     "title": ""
    }
   },
   "outputs": [],
   "source": [
    "# Join car_sales with company on 'company_id'\n",
    "car_sale_records_before_joins = car_sales_df.count()\n",
    "car_sales_company_df = car_sales_df.join(\n",
    "    company_df,\n",
    "    on=\"company_id\",\n",
    "    how=\"inner\"\n",
    ")\n",
    "car_sale_records_after_join_company = car_sales_company_df.count()"
   ]
  },
  {
   "cell_type": "code",
   "execution_count": 0,
   "metadata": {
    "application/vnd.databricks.v1+cell": {
     "cellMetadata": {
      "byteLimit": 2048000,
      "rowLimit": 10000
     },
     "inputWidgets": {},
     "nuid": "47882d07-5f73-45a3-a14b-021d7bd5f274",
     "showTitle": false,
     "tableResultSettingsMap": {},
     "title": ""
    }
   },
   "outputs": [],
   "source": [
    "# Join car_sales_company with customers on 'car_id'\n",
    "golden_df = car_sales_company_df.join(\n",
    "    customers_df,\n",
    "    on=\"car_id\",\n",
    "    how=\"inner\"\n",
    ")\n",
    "car_sale_records_after_join_customers = golden_df.count()"
   ]
  },
  {
   "cell_type": "markdown",
   "metadata": {
    "application/vnd.databricks.v1+cell": {
     "cellMetadata": {
      "byteLimit": 2048000,
      "rowLimit": 10000
     },
     "inputWidgets": {},
     "nuid": "87fcfa01-8a79-4be3-9d55-30c08a3c0c1f",
     "showTitle": false,
     "tableResultSettingsMap": {},
     "title": ""
    }
   },
   "source": [
    "## Saving Data with Performance Tuning"
   ]
  },
  {
   "cell_type": "markdown",
   "metadata": {
    "application/vnd.databricks.v1+cell": {
     "cellMetadata": {
      "byteLimit": 2048000,
      "rowLimit": 10000
     },
     "inputWidgets": {},
     "nuid": "627f2216-6026-4df7-9632-83aba23a3c47",
     "showTitle": false,
     "tableResultSettingsMap": {},
     "title": ""
    }
   },
   "source": [
    "### Partitioning"
   ]
  },
  {
   "cell_type": "code",
   "execution_count": 0,
   "metadata": {
    "application/vnd.databricks.v1+cell": {
     "cellMetadata": {
      "byteLimit": 2048000,
      "rowLimit": 10000
     },
     "inputWidgets": {},
     "nuid": "c5b0eb4b-00cf-40ec-86fa-cfa22edca68f",
     "showTitle": false,
     "tableResultSettingsMap": {},
     "title": ""
    }
   },
   "outputs": [
    {
     "output_type": "stream",
     "name": "stdout",
     "output_type": "stream",
     "text": [
      "Golden Layer successfully saved with partitioning by 'dealer_region'.\n"
     ]
    }
   ],
   "source": [
    "# Define Golden Layer path\n",
    "golden_path = gold_path + \"golden_data\"\n",
    "\n",
    "dbutils.fs.rm(golden_path, True) # delete previous data in golden layer\n",
    "\n",
    "# Write Golden Layer with Partitioning by 'dealer_region'\n",
    "try:\n",
    "    golden_df.write.format(\"delta\") \\\n",
    "        .partitionBy(\"dealer_region\") \\\n",
    "        .mode(\"overwrite\") \\\n",
    "        .save(golden_path)\n",
    "\n",
    "    print(\"Golden Layer successfully saved with partitioning by 'dealer_region'.\")\n",
    "\n",
    "    log_message(\"info\", \"medallion\", \"gold_ingestion\", f\"Partitioned data by 'dealer_region' successfully stored in the Gold Layer\")\n",
    "except Exception as e:\n",
    "    print(f\"Error occurred while writing data to the Gold Layer: {e}\")\n",
    "    log_message(\"error\", \"medallion\", \"gold_ingestion\", f\"Error occurred while writing data to the Gold Layer: {e}\")"
   ]
  },
  {
   "cell_type": "markdown",
   "metadata": {
    "application/vnd.databricks.v1+cell": {
     "cellMetadata": {
      "byteLimit": 2048000,
      "rowLimit": 10000
     },
     "inputWidgets": {},
     "nuid": "72c90883-6722-4b90-9904-4256f3825d9f",
     "showTitle": false,
     "tableResultSettingsMap": {},
     "title": ""
    }
   },
   "source": [
    "### Z-Ordering"
   ]
  },
  {
   "cell_type": "code",
   "execution_count": 0,
   "metadata": {
    "application/vnd.databricks.v1+cell": {
     "cellMetadata": {
      "byteLimit": 2048000,
      "rowLimit": 10000
     },
     "inputWidgets": {},
     "nuid": "8796e00c-35e1-4bab-b3b9-f5436aa6134a",
     "showTitle": false,
     "tableResultSettingsMap": {},
     "title": ""
    }
   },
   "outputs": [
    {
     "output_type": "stream",
     "name": "stdout",
     "output_type": "stream",
     "text": [
      "Z-Ordering successfully applied to the Golden Layer by 'date' and 'price_$'.\n"
     ]
    }
   ],
   "source": [
    "# Load the Golden Layer Delta Table\n",
    "golden_table = DeltaTable.forPath(spark, golden_path)\n",
    "\n",
    "# Optimize the table with Z-Ordering on 'date' and 'price_$'\n",
    "try:\n",
    "    golden_table.optimize().executeZOrderBy(\"date\", \"`price_$`\")\n",
    "\n",
    "    print(\"Z-Ordering successfully applied to the Golden Layer by 'date' and 'price_$'.\")\n",
    "\n",
    "    log_message(\"info\", \"medallion\", \"gold_ingestion\", \"Z-Ordering successfully applied to the Golden Layer by 'date' and 'price_$'.\")\n",
    "except Exception as e:\n",
    "    print(f\"Error occurred while optimizing the Golden Layer: {e}\")\n",
    "    log_message(\"error\", \"medallion\", \"gold_ingestion\", f\"Error occurred while optimizing the Golden Layer: {e}\")"
   ]
  },
  {
   "cell_type": "markdown",
   "metadata": {
    "application/vnd.databricks.v1+cell": {
     "cellMetadata": {
      "byteLimit": 2048000,
      "rowLimit": 10000
     },
     "inputWidgets": {},
     "nuid": "16a77b5a-f020-4fe7-96e5-6658fb4862e6",
     "showTitle": false,
     "tableResultSettingsMap": {},
     "title": ""
    }
   },
   "source": [
    "###Caching"
   ]
  },
  {
   "cell_type": "code",
   "execution_count": 0,
   "metadata": {
    "application/vnd.databricks.v1+cell": {
     "cellMetadata": {
      "byteLimit": 2048000,
      "rowLimit": 10000
     },
     "inputWidgets": {},
     "nuid": "0f362677-8106-4c50-920f-fdd5c2e1b46a",
     "showTitle": false,
     "tableResultSettingsMap": {},
     "title": ""
    }
   },
   "outputs": [],
   "source": [
    "# Load Golden Layer data\n",
    "golden_df = spark.read.format(\"delta\").load(golden_path)\n",
    "golden_df.cache()  # Cache the data for faster access\n",
    "\n",
    "# Trigger caching by performing an action\n",
    "golden_df.count()  # Ensures the data is fully cached in memory\n",
    "golden_pandas_df = golden_df.toPandas()"
   ]
  },
  {
   "cell_type": "code",
   "execution_count": 0,
   "metadata": {
    "application/vnd.databricks.v1+cell": {
     "cellMetadata": {
      "byteLimit": 2048000,
      "rowLimit": 10000
     },
     "inputWidgets": {},
     "nuid": "3b01d86b-b072-4382-a4d3-e1ab1f966ae0",
     "showTitle": false,
     "tableResultSettingsMap": {},
     "title": ""
    }
   },
   "outputs": [
    {
     "output_type": "stream",
     "name": "stdout",
     "output_type": "stream",
     "text": [
      "         car_id company_id        date  ...     name  gender annual_income_$\n0  C_CND_000995    CMP_006  2022-03-19  ...  Addison  Female           13500\n1  C_CND_002277    CMP_025  2022-05-07  ...    Perel    Male          520000\n2  C_CND_003059    CMP_010  2022-06-09  ...    Alana    Male          515000\n3  C_CND_003837    CMP_020  2022-07-10  ...   Alizee  Female          390000\n4  C_CND_004266    CMP_008  2022-07-31  ...   Audrey    Male         1960000\n\n[5 rows x 18 columns]\nTotal Rows in Golden Layer: 23388\nColumns in Golden Layer: ['car_id', 'company_id', 'date', 'dealer_name', 'dealer_region', 'model', 'engine', 'transmission', 'color', 'body_style', 'price_$', 'company_name', 'company_type', 'founding_year', 'headquarters', 'name', 'gender', 'annual_income_$']\n"
     ]
    }
   ],
   "source": [
    "print(golden_pandas_df.head(5))\n",
    "print(f\"Total Rows in Golden Layer: {len(golden_pandas_df)}\")\n",
    "print(f\"Columns in Golden Layer: {golden_pandas_df.columns.tolist()}\")"
   ]
  },
  {
   "cell_type": "code",
   "execution_count": 0,
   "metadata": {
    "application/vnd.databricks.v1+cell": {
     "cellMetadata": {
      "byteLimit": 2048000,
      "rowLimit": 10000
     },
     "inputWidgets": {},
     "nuid": "aa2eee4a-ee29-4a8d-a6a4-a0135e4cebaf",
     "showTitle": false,
     "tableResultSettingsMap": {},
     "title": ""
    }
   },
   "outputs": [],
   "source": [
    "# Populate statistics\n",
    "new_row = pd.DataFrame([{\n",
    "    \"car_sale_records_before_joins\": car_sale_records_before_joins,\n",
    "    \"car_sale_records_after_join_company\": car_sale_records_after_join_company,\n",
    "    \"car_sale_records_after_join_customers\": car_sale_records_after_join_customers,\n",
    "    \"timestamp\": datetime.now()\n",
    "}])\n",
    "gold_statistics_df  = pd.concat([gold_statistics_df , new_row], ignore_index=True)"
   ]
  },
  {
   "cell_type": "code",
   "execution_count": 0,
   "metadata": {
    "application/vnd.databricks.v1+cell": {
     "cellMetadata": {
      "byteLimit": 2048000,
      "rowLimit": 10000
     },
     "inputWidgets": {},
     "nuid": "6e69bb71-56e3-4df1-af20-4f7ab44ebd43",
     "showTitle": false,
     "tableResultSettingsMap": {},
     "title": ""
    }
   },
   "outputs": [
    {
     "output_type": "display_data",
     "data": {
      "text/html": [
       "<style scoped>\n",
       "  .table-result-container {\n",
       "    max-height: 300px;\n",
       "    overflow: auto;\n",
       "  }\n",
       "  table, th, td {\n",
       "    border: 1px solid black;\n",
       "    border-collapse: collapse;\n",
       "  }\n",
       "  th, td {\n",
       "    padding: 5px;\n",
       "  }\n",
       "  th {\n",
       "    text-align: left;\n",
       "  }\n",
       "</style><div class='table-result-container'><table class='table-result'><thead style='background-color: white'><tr><th>car_sale_records_before_joins</th><th>car_sale_records_after_join_company</th><th>car_sale_records_after_join_customers</th><th>timestamp</th></tr></thead><tbody><tr><td>23813</td><td>23813</td><td>23388</td><td>2025-03-20T11:22:39.202696Z</td></tr></tbody></table></div>"
      ]
     },
     "metadata": {
      "application/vnd.databricks.v1+output": {
       "addedWidgets": {},
       "aggData": [],
       "aggError": "",
       "aggOverflow": false,
       "aggSchema": [],
       "aggSeriesLimitReached": false,
       "aggType": "",
       "arguments": {},
       "columnCustomDisplayInfos": {},
       "data": [
        [
         23813,
         23813,
         23388,
         "2025-03-20T11:22:39.202696Z"
        ]
       ],
       "datasetInfos": [],
       "dbfsResultPath": null,
       "isJsonSchema": true,
       "metadata": {},
       "overflow": false,
       "plotOptions": {
        "customPlotOptions": {},
        "displayType": "table",
        "pivotAggregation": null,
        "pivotColumns": null,
        "xColumns": null,
        "yColumns": null
       },
       "removedWidgets": [],
       "schema": [
        {
         "metadata": "{}",
         "name": "car_sale_records_before_joins",
         "type": "\"long\""
        },
        {
         "metadata": "{}",
         "name": "car_sale_records_after_join_company",
         "type": "\"long\""
        },
        {
         "metadata": "{}",
         "name": "car_sale_records_after_join_customers",
         "type": "\"long\""
        },
        {
         "metadata": "{}",
         "name": "timestamp",
         "type": "\"timestamp\""
        }
       ],
       "type": "table"
      }
     },
     "output_type": "display_data"
    }
   ],
   "source": [
    "display(gold_statistics_df)"
   ]
  },
  {
   "cell_type": "markdown",
   "metadata": {
    "application/vnd.databricks.v1+cell": {
     "cellMetadata": {
      "byteLimit": 2048000,
      "rowLimit": 10000
     },
     "inputWidgets": {},
     "nuid": "cf515c69-a136-4ef5-a113-c22124499a3d",
     "showTitle": false,
     "tableResultSettingsMap": {},
     "title": ""
    }
   },
   "source": [
    "# Pipeline Statistics"
   ]
  },
  {
   "cell_type": "code",
   "execution_count": 0,
   "metadata": {
    "application/vnd.databricks.v1+cell": {
     "cellMetadata": {
      "byteLimit": 2048000,
      "rowLimit": 10000
     },
     "inputWidgets": {},
     "nuid": "c3e2f20c-c910-4e3a-bf2f-66cb27f00cde",
     "showTitle": false,
     "tableResultSettingsMap": {},
     "title": ""
    }
   },
   "outputs": [
    {
     "output_type": "display_data",
     "data": {
      "image/png": "[encoded data removed]",
      "text/plain": [
       "<Figure size 800x600 with 1 Axes>"
      ]
     },
     "metadata": {},
     "output_type": "display_data"
    }
   ],
   "source": [
    "# Create the bar plot\n",
    "ax = bronze_statistics_df.plot(kind=\"bar\", x=\"file\", y=\"ingestion_time_s\", legend=False, figsize=(8, 6), color=\"skyblue\")\n",
    "\n",
    "# Add labels on top of each bar\n",
    "for p in ax.patches:\n",
    "    ax.text(p.get_x() + p.get_width() / 2, p.get_height(), f\"{p.get_height():.2f}\", \n",
    "            fontsize=12, ha=\"center\", va=\"bottom\", fontweight=\"bold\")\n",
    "\n",
    "# Formatting\n",
    "plt.title(\"File Ingestion Time (Seconds)\")\n",
    "plt.xlabel(\"File\")\n",
    "plt.ylabel(\"Ingestion Time (s)\")\n",
    "plt.xticks(rotation=45)\n",
    "plt.grid(axis=\"y\", linestyle=\"--\", alpha=0.7)\n",
    "plt.tight_layout()\n",
    "\n",
    "# Show the plot\n",
    "plt.show()"
   ]
  },
  {
   "cell_type": "code",
   "execution_count": 0,
   "metadata": {
    "application/vnd.databricks.v1+cell": {
     "cellMetadata": {
      "byteLimit": 2048000,
      "rowLimit": 10000
     },
     "inputWidgets": {},
     "nuid": "c12ffa13-f429-480a-9928-2e50bf656190",
     "showTitle": false,
     "tableResultSettingsMap": {},
     "title": ""
    }
   },
   "outputs": [
    {
     "output_type": "display_data",
     "data": {
      "image/png": "[encoded data removed]",
      "text/plain": [
       "<Figure size 1000x500 with 1 Axes>"
      ]
     },
     "metadata": {},
     "output_type": "display_data"
    }
   ],
   "source": [
    "silver_statistics_df.plot(kind=\"line\", x=\"file\", y=[\"missing_values\", \"duplicates\", \"anomalies\"], marker=\"o\", figsize=(10, 5))\n",
    "plt.title(\"Missing Values, Duplicates & Anomalies Over Time\")\n",
    "plt.xlabel(\"File\")\n",
    "plt.ylabel(\"Count\")\n",
    "plt.xticks(rotation=45)\n",
    "plt.legend([\"Missing Values\", \"Duplicates\", \"Anomalies\"])\n",
    "plt.grid(axis=\"y\", linestyle=\"--\", alpha=0.7)\n",
    "plt.show()"
   ]
  },
  {
   "cell_type": "code",
   "execution_count": 0,
   "metadata": {
    "application/vnd.databricks.v1+cell": {
     "cellMetadata": {
      "byteLimit": 2048000,
      "rowLimit": 10000
     },
     "inputWidgets": {},
     "nuid": "506a6bad-3886-4650-af33-dcd4828167eb",
     "showTitle": false,
     "tableResultSettingsMap": {},
     "title": ""
    }
   },
   "outputs": [
    {
     "output_type": "display_data",
     "data": {
      "image/png": "[encoded data removed]",
      "text/plain": [
       "<Figure size 1200x500 with 1 Axes>"
      ]
     },
     "metadata": {},
     "output_type": "display_data"
    }
   ],
   "source": [
    "# Define the join stages and corresponding record counts\n",
    "stages = [\"Before Joins\", \"After Company Join\", \"After Customer Join\"]\n",
    "record_counts = [\n",
    "    gold_statistics_df[\"car_sale_records_before_joins\"].iloc[-1],  \n",
    "    gold_statistics_df[\"car_sale_records_after_join_company\"].iloc[-1],  \n",
    "    gold_statistics_df[\"car_sale_records_after_join_customers\"].iloc[-1]\n",
    "]\n",
    "\n",
    "# Plot\n",
    "plt.figure(figsize=(12, 5))\n",
    "plt.plot(stages, record_counts, marker=\"o\", linestyle=\"-\", color=\"blue\")\n",
    "\n",
    "# Annotate each point with the exact record count\n",
    "for i, count in enumerate(record_counts):\n",
    "    plt.text(stages[i], count, f\"{count:,}\", fontsize=12, ha=\"center\", va=\"bottom\", fontweight=\"bold\")\n",
    "\n",
    "# Labels and Formatting\n",
    "plt.title(\"Record Retention Through Joins\")\n",
    "plt.xlabel(\"Join Stage\")\n",
    "plt.ylabel(\"Number of Records\")\n",
    "plt.grid(axis=\"y\", linestyle=\"--\", alpha=0.7)\n",
    "plt.ylim(0, max(record_counts) * 1.1)  # Set Y-axis range slightly above max count\n",
    "plt.tight_layout()\n",
    "\n",
    "# Show Plot\n",
    "plt.show()"
   ]
  },
  {
   "cell_type": "markdown",
   "metadata": {
    "application/vnd.databricks.v1+cell": {
     "cellMetadata": {
      "byteLimit": 2048000,
      "rowLimit": 10000
     },
     "inputWidgets": {},
     "nuid": "2903cab6-1b97-4389-b23a-221e419d0091",
     "showTitle": false,
     "tableResultSettingsMap": {},
     "title": ""
    }
   },
   "source": [
    "# Saving Statistics"
   ]
  },
  {
   "cell_type": "code",
   "execution_count": 0,
   "metadata": {
    "application/vnd.databricks.v1+cell": {
     "cellMetadata": {
      "byteLimit": 2048000,
      "rowLimit": 10000
     },
     "inputWidgets": {},
     "nuid": "8f5ff6a1-0964-4013-bec5-824f0cca283e",
     "showTitle": false,
     "tableResultSettingsMap": {},
     "title": ""
    }
   },
   "outputs": [
    {
     "output_type": "stream",
     "name": "stdout",
     "output_type": "stream",
     "text": [
      "JSON file saved to /Workspace/Users/masa.cirkovic@abo.fi/medallion/statistics.json\n"
     ]
    }
   ],
   "source": [
    "# Define JSON output paths for each statistics DataFrame\n",
    "json_statistics_path = base_path.split(\"file:\")[1] + \"medallion/statistics.json\"\n",
    "\n",
    "# Convert timestamp columns to strings in each DataFrame\n",
    "bronze_statistics_df[\"timestamp\"] = bronze_statistics_df[\"timestamp\"].astype(str)\n",
    "silver_statistics_df[\"timestamp\"] = silver_statistics_df[\"timestamp\"].astype(str)\n",
    "gold_statistics_df[\"timestamp\"] = gold_statistics_df[\"timestamp\"].astype(str)\n",
    "\n",
    "# Convert each DataFrame to a list of dictionaries\n",
    "bronze_dict = bronze_statistics_df.to_dict(orient=\"records\")\n",
    "silver_dict = silver_statistics_df.to_dict(orient=\"records\")\n",
    "gold_dict = gold_statistics_df.to_dict(orient=\"records\")\n",
    "\n",
    "# Create a final dictionary with keys for each statistic type\n",
    "final_dict = {\n",
    "    \"bronze\": bronze_dict,\n",
    "    \"silver\": silver_dict,\n",
    "    \"gold\": gold_dict\n",
    "}\n",
    "\n",
    "# Save the dictionary as a JSON file\n",
    "try:\n",
    "    with open(json_statistics_path, \"w\") as json_file:\n",
    "        json.dump(final_dict, json_file, indent=4)\n",
    "    print(f\"JSON file saved to {json_statistics_path}\")\n",
    "\n",
    "    log_message(\"info\", \"medallion\", \"saving statistics\", f\"Medallion pipeline statistics JSON file saved to {json_statistics_path}\")\n",
    "except Exception as e:\n",
    "    print(f\"Error saving JSON file: {e}\")\n",
    "    log_message(\"error\", \"medallion\", \"saving statistics\", f\"Error saving Medallion pipeline statistics JSON file: {e}\")"
   ]
  }
 ],
 "metadata": {
  "application/vnd.databricks.v1+notebook": {
   "computePreferences": null,
   "dashboards": [],
   "environmentMetadata": {
    "base_environment": "",
    "environment_version": "2"
   },
   "language": "python",
   "notebookMetadata": {
    "pythonIndentUnit": 4
   },
   "notebookName": "01 - Medallion",
   "widgets": {}
  },
  "language_info": {
   "name": "python"
  }
 },
 "nbformat": 4,
 "nbformat_minor": 0
}