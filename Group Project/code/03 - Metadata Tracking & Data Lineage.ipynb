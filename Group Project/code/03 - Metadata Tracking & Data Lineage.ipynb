{
 "cells": [
  {
   "cell_type": "code",
   "execution_count": 0,
   "metadata": {
    "application/vnd.databricks.v1+cell": {
     "cellMetadata": {
      "byteLimit": 2048000,
      "rowLimit": 10000
     },
     "inputWidgets": {},
     "nuid": "b824bb15-c4d5-4642-9f64-3ac94cfc52a4",
     "showTitle": false,
     "tableResultSettingsMap": {},
     "title": ""
    }
   },
   "outputs": [],
   "source": [
    "%load_ext autoreload\n",
    "%autoreload 2\n",
    "# Enables autoreload; learn more at https://docs.databricks.com/en/files/workspace-modules.html#autoreload-for-python-modules\n",
    "# To disable autoreload; run %autoreload 0"
   ]
  },
  {
   "cell_type": "markdown",
   "metadata": {
    "application/vnd.databricks.v1+cell": {
     "cellMetadata": {
      "byteLimit": 2048000,
      "rowLimit": 10000
     },
     "inputWidgets": {},
     "nuid": "65bf9eaf-a004-4359-a141-c3430f86a81d",
     "showTitle": false,
     "tableResultSettingsMap": {},
     "title": ""
    }
   },
   "source": [
    "# Imports "
   ]
  },
  {
   "cell_type": "code",
   "execution_count": 0,
   "metadata": {
    "application/vnd.databricks.v1+cell": {
     "cellMetadata": {
      "byteLimit": 2048000,
      "rowLimit": 10000
     },
     "inputWidgets": {},
     "nuid": "46b1ea9e-6e0f-45f0-a8fe-e6e82db76112",
     "showTitle": false,
     "tableResultSettingsMap": {},
     "title": ""
    }
   },
   "outputs": [
    {
     "data": {
      "application/vnd.databricks.v1+autoreload_discoverability": "{\"error_modules\":{},\"mode\":\"modules_reloaded\",\"success_modules\":[\"logger\"]}"
     },
     "metadata": {},
     "output_type": "display_data"
    }
   ],
   "source": [
    "from pyspark.sql import SparkSession\n",
    "from pyspark.sql.functions import col\n",
    "from pyspark.sql import functions as F\n",
    "from pyspark.sql import types as T\n",
    "from pyspark.sql import Row\n",
    "import os\n",
    "import matplotlib.pyplot as plt\n",
    "import pandas as pd\n",
    "from datetime import datetime\n",
    "\n",
    "from logger import log_message"
   ]
  },
  {
   "cell_type": "code",
   "execution_count": 0,
   "metadata": {
    "application/vnd.databricks.v1+cell": {
     "cellMetadata": {
      "byteLimit": 2048000,
      "rowLimit": 10000
     },
     "inputWidgets": {},
     "nuid": "6e696925-f442-437e-a58b-b120bcdfc8cf",
     "showTitle": false,
     "tableResultSettingsMap": {},
     "title": ""
    }
   },
   "outputs": [],
   "source": [
    "base_path = \"file:/Workspace/Users/masa.cirkovic@abo.fi/\"\n",
    "raw_data_path = base_path + \"rawdata/\"\n",
    "bronze_path = base_path + \"medallion/bronze/\"\n",
    "silver_path = base_path + \"medallion/silver/\"\n",
    "golden_path = base_path + \"medallion/gold/golden_data\"\n",
    "metadata_path = base_path + \"metadata/\""
   ]
  },
  {
   "cell_type": "code",
   "execution_count": 0,
   "metadata": {
    "application/vnd.databricks.v1+cell": {
     "cellMetadata": {
      "byteLimit": 2048000,
      "rowLimit": 10000
     },
     "inputWidgets": {},
     "nuid": "1f0e8c2a-09ce-47b3-8f8d-babee8448102",
     "showTitle": false,
     "tableResultSettingsMap": {},
     "title": ""
    }
   },
   "outputs": [],
   "source": [
    "bronze_car_sales_path = bronze_path + \"car_sales_data\"\n",
    "bronze_car_sales_df = spark.read.format(\"delta\").load(bronze_car_sales_path)\n",
    "\n",
    "bronze_companies_path = bronze_path + \"companies_data\"\n",
    "bronze_companies_df = spark.read.format(\"delta\").load(bronze_companies_path)\n",
    "\n",
    "bronze_customers_path = bronze_path + \"customers_data\"\n",
    "bronze_customers_df = spark.read.format(\"delta\").load(bronze_customers_path)\n",
    "\n",
    "silver_car_sales_path = silver_path + \"car_sales_data\"\n",
    "silver_car_sales_df = spark.read.format(\"delta\").load(silver_car_sales_path)\n",
    "\n",
    "silver_companies_path = silver_path + \"companies_data\"\n",
    "silver_companies_df = spark.read.format(\"delta\").load(silver_companies_path)\n",
    "\n",
    "silver_customers_path = silver_path + \"customers_data\"\n",
    "silver_customers_df = spark.read.format(\"delta\").load(silver_customers_path)\n",
    "\n",
    "golden_df = spark.read.format(\"delta\").load(golden_path)"
   ]
  },
  {
   "cell_type": "markdown",
   "metadata": {
    "application/vnd.databricks.v1+cell": {
     "cellMetadata": {
      "byteLimit": 2048000,
      "rowLimit": 10000
     },
     "inputWidgets": {},
     "nuid": "99589d36-8fdf-4b5d-aa8d-4fd4907efc02",
     "showTitle": false,
     "tableResultSettingsMap": {},
     "title": ""
    }
   },
   "source": [
    "# Metadata Tracking"
   ]
  },
  {
   "cell_type": "code",
   "execution_count": 0,
   "metadata": {
    "application/vnd.databricks.v1+cell": {
     "cellMetadata": {
      "byteLimit": 2048000,
      "rowLimit": 10000
     },
     "inputWidgets": {},
     "nuid": "f2aeb4a8-99ea-452a-8e49-1a6887599ffc",
     "showTitle": false,
     "tableResultSettingsMap": {},
     "title": ""
    }
   },
   "outputs": [],
   "source": [
    "golden_metadata = {\n",
    "    \"last_updated\": datetime.now().strftime(\"%Y-%m-%d %H:%M:%S\"),\n",
    "    \"total_records\": golden_df.count(),\n",
    "    \"source_datasets\": [\"car_sales_data\", \"companies_data\", \"customers_data\"],\n",
    "    \"transformation_steps\": \"Bronze → Silver → Golden\",\n",
    "    \"key_aggregations\": [\"Total Sales Per Day\", \"Most Popular Models\", \"Income Analysis\"]\n",
    "}\n",
    "\n",
    "# Convert metadata to DataFrame\n",
    "metadata_df = spark.createDataFrame([golden_metadata])\n",
    "\n",
    "# Save metadata table\n",
    "golden_metadata_path = metadata_path + \"golden_metadata\"\n",
    "\n",
    "try:\n",
    "    metadata_df.write.format(\"delta\").mode(\"overwrite\").save(golden_metadata_path)\n",
    "    log_message(\"info\", \"metadata_tracking_and_data_lineage\", \"saving golden metadata\", \"Metadata for golden layer successfully saved\")\n",
    "except Exception as e:\n",
    "    log_message(\"error\", \"metadata_tracking_and_data_lineage\", \"saving golden metadata\", str(e))"
   ]
  },
  {
   "cell_type": "code",
   "execution_count": 0,
   "metadata": {
    "application/vnd.databricks.v1+cell": {
     "cellMetadata": {
      "byteLimit": 2048000,
      "rowLimit": 10000
     },
     "inputWidgets": {},
     "nuid": "6d165f1e-2b2f-4e79-981b-c16fa7d6f87d",
     "showTitle": false,
     "tableResultSettingsMap": {},
     "title": ""
    }
   },
   "outputs": [
    {
     "data": {
      "text/html": [
       "<style scoped>\n",
       "  .table-result-container {\n",
       "    max-height: 300px;\n",
       "    overflow: auto;\n",
       "  }\n",
       "  table, th, td {\n",
       "    border: 1px solid black;\n",
       "    border-collapse: collapse;\n",
       "  }\n",
       "  th, td {\n",
       "    padding: 5px;\n",
       "  }\n",
       "  th {\n",
       "    text-align: left;\n",
       "  }\n",
       "</style><div class='table-result-container'><table class='table-result'><thead style='background-color: white'><tr><th>key_aggregations</th><th>last_updated</th><th>source_datasets</th><th>total_records</th><th>transformation_steps</th></tr></thead><tbody><tr><td>List(Total Sales Per Day, Most Popular Models, Income Analysis)</td><td>2025-03-20 11:25:17</td><td>List(car_sales_data, companies_data, customers_data)</td><td>23388</td><td>Bronze → Silver → Golden</td></tr></tbody></table></div>"
      ]
     },
     "metadata": {
      "application/vnd.databricks.v1+output": {
       "addedWidgets": {},
       "aggData": [],
       "aggError": "",
       "aggOverflow": false,
       "aggSchema": [],
       "aggSeriesLimitReached": false,
       "aggType": "",
       "arguments": {},
       "columnCustomDisplayInfos": {},
       "data": [
        [
         [
          "Total Sales Per Day",
          "Most Popular Models",
          "Income Analysis"
         ],
         "2025-03-20 11:25:17",
         [
          "car_sales_data",
          "companies_data",
          "customers_data"
         ],
         23388,
         "Bronze → Silver → Golden"
        ]
       ],
       "datasetInfos": [],
       "dbfsResultPath": null,
       "isJsonSchema": true,
       "metadata": {},
       "overflow": false,
       "plotOptions": {
        "customPlotOptions": {},
        "displayType": "table",
        "pivotAggregation": null,
        "pivotColumns": null,
        "xColumns": null,
        "yColumns": null
       },
       "removedWidgets": [],
       "schema": [
        {
         "metadata": "{}",
         "name": "key_aggregations",
         "type": "{\"type\":\"array\",\"elementType\":\"string\",\"containsNull\":true}"
        },
        {
         "metadata": "{}",
         "name": "last_updated",
         "type": "\"string\""
        },
        {
         "metadata": "{}",
         "name": "source_datasets",
         "type": "{\"type\":\"array\",\"elementType\":\"string\",\"containsNull\":true}"
        },
        {
         "metadata": "{}",
         "name": "total_records",
         "type": "\"long\""
        },
        {
         "metadata": "{}",
         "name": "transformation_steps",
         "type": "\"string\""
        }
       ],
       "type": "table"
      }
     },
     "output_type": "display_data"
    }
   ],
   "source": [
    "display(metadata_df)"
   ]
  },
  {
   "cell_type": "markdown",
   "metadata": {
    "application/vnd.databricks.v1+cell": {
     "cellMetadata": {
      "byteLimit": 2048000,
      "rowLimit": 10000
     },
     "inputWidgets": {},
     "nuid": "6e2bbefe-8abb-47c3-b4bd-6f1e444428ac",
     "showTitle": false,
     "tableResultSettingsMap": {},
     "title": ""
    }
   },
   "source": [
    "# Data Lineage"
   ]
  },
  {
   "cell_type": "code",
   "execution_count": 0,
   "metadata": {
    "application/vnd.databricks.v1+cell": {
     "cellMetadata": {
      "byteLimit": 2048000,
      "rowLimit": 10000
     },
     "inputWidgets": {},
     "nuid": "9a56c364-a8ca-4ce1-a719-9a0a30ff450c",
     "showTitle": false,
     "tableResultSettingsMap": {},
     "title": ""
    }
   },
   "outputs": [
    {
     "name": "stdout",
     "output_type": "stream",
     "text": [
      "Metadata successfully saved.\n"
     ]
    }
   ],
   "source": [
    "# Metadata entries for each dataset in Bronze Layer\n",
    "metadata_entries = [\n",
    "    # Bronze Layer\n",
    "    Row(\n",
    "        layer=\"Bronze\",\n",
    "        dataset_name=\"car_sales\",\n",
    "        record_count=bronze_car_sales_df.count(),\n",
    "        transformation_steps=\"Raw data ingestion\",\n",
    "        source=\"car_sales_data.csv\",\n",
    "        file_path= bronze_path + \"car_sales_data\"\n",
    "    ),\n",
    "    Row(\n",
    "        layer=\"Bronze\",\n",
    "        dataset_name=\"company\",\n",
    "        record_count=bronze_companies_df.count(),\n",
    "        transformation_steps=\"Raw data ingestion\",\n",
    "        source=\"companies_data.json\",\n",
    "        file_path=bronze_path + \"companies_data\"\n",
    "    ),\n",
    "    Row(\n",
    "        layer=\"Bronze\",\n",
    "        dataset_name=\"customers\",\n",
    "        record_count=bronze_customers_df.count(),\n",
    "        transformation_steps=\"Raw data ingestion\",\n",
    "        source=\"customers_data.csv\",\n",
    "        file_path=bronze_path + \"customers_data\"\n",
    "    ),\n",
    "\n",
    "    # Silver Layer\n",
    "    Row(\n",
    "        layer=\"Silver\",\n",
    "        dataset_name=\"car_sales\",\n",
    "        record_count=silver_car_sales_df.count(),\n",
    "        transformation_steps=\"Renamed Columns → Dropped Duplicates → Fixed Price Format → Dropped Missing Rows → Dropped Anomalies\",\n",
    "        source=\"bronze_car_sales_df\",\n",
    "        file_path=silver_path + \"car_sales_data\"\n",
    "    ),\n",
    "    Row(\n",
    "        layer=\"Silver\",\n",
    "        dataset_name=\"company\",\n",
    "        record_count=silver_companies_df.count(),\n",
    "        transformation_steps=\"Standardized Country Names\",\n",
    "        source=\"bronze_company_df\",\n",
    "        file_path=silver_path + \"companies_data\"\n",
    "    ),\n",
    "    Row(\n",
    "        layer=\"Silver\",\n",
    "        dataset_name=\"customers\",\n",
    "        record_count=silver_customers_df.count(),\n",
    "        transformation_steps=\"Renamed Columns → Dropped Duplicates → Fixed Income Format → Dropped Missing Rows\",\n",
    "        source=\"bronze_customers_df\",\n",
    "        file_path=silver_path + \"customers_data\"\n",
    "    ),\n",
    "\n",
    "    # Golden Layer\n",
    "    Row(\n",
    "        layer=\"Golden\",\n",
    "        dataset_name=\"golden_data\",\n",
    "        record_count=golden_df.count(),\n",
    "        transformation_steps=\"Joined Car Sales ↔ Company ↔ Customers → Aggregated Sales\",\n",
    "        source=\"silver_car_sales_df, silver_company_df, silver_customers_df\",\n",
    "        file_path=golden_path\n",
    "    )\n",
    "]\n",
    "\n",
    "# Convert list to DataFrame\n",
    "metadata_df = spark.createDataFrame(metadata_entries)\n",
    "\n",
    "metadata_path = metadata_path + \"metadata_table\"\n",
    "\n",
    "try:\n",
    "    # Write Metadata to Delta Table\n",
    "    metadata_df.write.format(\"delta\") \\\n",
    "        .mode(\"overwrite\") \\\n",
    "        .save(metadata_path)\n",
    "\n",
    "    log_message(\"info\", \"metadata_tracking_and_data_lineage\", \"saving metadata table\", \"Metadata for Data Lineage successfully saved\")\n",
    "except Exception as e:\n",
    "    log_message(\"error\", \"metadata_tracking_and_data_lineage\", \"saving metadata table\", str(e))\n",
    "\n",
    "print(\"Metadata successfully saved.\")"
   ]
  },
  {
   "cell_type": "code",
   "execution_count": 0,
   "metadata": {
    "application/vnd.databricks.v1+cell": {
     "cellMetadata": {
      "byteLimit": 2048000,
      "rowLimit": 10000
     },
     "inputWidgets": {},
     "nuid": "8e731534-0244-41d6-963b-8a315621f81a",
     "showTitle": false,
     "tableResultSettingsMap": {},
     "title": ""
    }
   },
   "outputs": [
    {
     "data": {
      "text/html": [
       "<style scoped>\n",
       "  .table-result-container {\n",
       "    max-height: 300px;\n",
       "    overflow: auto;\n",
       "  }\n",
       "  table, th, td {\n",
       "    border: 1px solid black;\n",
       "    border-collapse: collapse;\n",
       "  }\n",
       "  th, td {\n",
       "    padding: 5px;\n",
       "  }\n",
       "  th {\n",
       "    text-align: left;\n",
       "  }\n",
       "</style><div class='table-result-container'><table class='table-result'><thead style='background-color: white'><tr><th>layer</th><th>dataset_name</th><th>record_count</th><th>transformation_steps</th><th>source</th><th>file_path</th></tr></thead><tbody><tr><td>Silver</td><td>customers</td><td>23479</td><td>Renamed Columns → Dropped Duplicates → Fixed Income Format → Dropped Missing Rows</td><td>bronze_customers_df</td><td>file:/Workspace/Users/masa.cirkovic@abo.fi/medallion/silver/customers_data</td></tr><tr><td>Golden</td><td>golden_data</td><td>23388</td><td>Joined Car Sales ↔ Company ↔ Customers → Aggregated Sales</td><td>silver_car_sales_df, silver_company_df, silver_customers_df</td><td>file:/Workspace/Users/masa.cirkovic@abo.fi/medallion/gold/golden_data</td></tr><tr><td>Silver</td><td>car_sales</td><td>23813</td><td>Renamed Columns → Dropped Duplicates → Fixed Price Format → Dropped Missing Rows → Dropped Anomalies</td><td>bronze_car_sales_df</td><td>file:/Workspace/Users/masa.cirkovic@abo.fi/medallion/silver/car_sales_data</td></tr><tr><td>Silver</td><td>company</td><td>30</td><td>Standardized Country Names</td><td>bronze_company_df</td><td>file:/Workspace/Users/masa.cirkovic@abo.fi/medallion/silver/companies_data</td></tr><tr><td>Bronze</td><td>car_sales</td><td>24183</td><td>Raw data ingestion</td><td>car_sales_data.csv</td><td>file:/Workspace/Users/masa.cirkovic@abo.fi/medallion/bronze/car_sales_data</td></tr><tr><td>Bronze</td><td>company</td><td>30</td><td>Raw data ingestion</td><td>companies_data.json</td><td>file:/Workspace/Users/masa.cirkovic@abo.fi/medallion/bronze/companies_data</td></tr><tr><td>Bronze</td><td>customers</td><td>23906</td><td>Raw data ingestion</td><td>customers_data.csv</td><td>file:/Workspace/Users/masa.cirkovic@abo.fi/medallion/bronze/customers_data</td></tr></tbody></table></div>"
      ]
     },
     "metadata": {
      "application/vnd.databricks.v1+output": {
       "addedWidgets": {},
       "aggData": [],
       "aggError": "",
       "aggOverflow": false,
       "aggSchema": [],
       "aggSeriesLimitReached": false,
       "aggType": "",
       "arguments": {},
       "columnCustomDisplayInfos": {},
       "data": [
        [
         "Silver",
         "customers",
         23479,
         "Renamed Columns → Dropped Duplicates → Fixed Income Format → Dropped Missing Rows",
         "bronze_customers_df",
         "file:/Workspace/Users/masa.cirkovic@abo.fi/medallion/silver/customers_data"
        ],
        [
         "Golden",
         "golden_data",
         23388,
         "Joined Car Sales ↔ Company ↔ Customers → Aggregated Sales",
         "silver_car_sales_df, silver_company_df, silver_customers_df",
         "file:/Workspace/Users/masa.cirkovic@abo.fi/medallion/gold/golden_data"
        ],
        [
         "Silver",
         "car_sales",
         23813,
         "Renamed Columns → Dropped Duplicates → Fixed Price Format → Dropped Missing Rows → Dropped Anomalies",
         "bronze_car_sales_df",
         "file:/Workspace/Users/masa.cirkovic@abo.fi/medallion/silver/car_sales_data"
        ],
        [
         "Silver",
         "company",
         30,
         "Standardized Country Names",
         "bronze_company_df",
         "file:/Workspace/Users/masa.cirkovic@abo.fi/medallion/silver/companies_data"
        ],
        [
         "Bronze",
         "car_sales",
         24183,
         "Raw data ingestion",
         "car_sales_data.csv",
         "file:/Workspace/Users/masa.cirkovic@abo.fi/medallion/bronze/car_sales_data"
        ],
        [
         "Bronze",
         "company",
         30,
         "Raw data ingestion",
         "companies_data.json",
         "file:/Workspace/Users/masa.cirkovic@abo.fi/medallion/bronze/companies_data"
        ],
        [
         "Bronze",
         "customers",
         23906,
         "Raw data ingestion",
         "customers_data.csv",
         "file:/Workspace/Users/masa.cirkovic@abo.fi/medallion/bronze/customers_data"
        ]
       ],
       "datasetInfos": [],
       "dbfsResultPath": null,
       "isJsonSchema": true,
       "metadata": {},
       "overflow": false,
       "plotOptions": {
        "customPlotOptions": {},
        "displayType": "table",
        "pivotAggregation": null,
        "pivotColumns": null,
        "xColumns": null,
        "yColumns": null
       },
       "removedWidgets": [],
       "schema": [
        {
         "metadata": "{}",
         "name": "layer",
         "type": "\"string\""
        },
        {
         "metadata": "{}",
         "name": "dataset_name",
         "type": "\"string\""
        },
        {
         "metadata": "{}",
         "name": "record_count",
         "type": "\"long\""
        },
        {
         "metadata": "{}",
         "name": "transformation_steps",
         "type": "\"string\""
        },
        {
         "metadata": "{}",
         "name": "source",
         "type": "\"string\""
        },
        {
         "metadata": "{}",
         "name": "file_path",
         "type": "\"string\""
        }
       ],
       "type": "table"
      }
     },
     "output_type": "display_data"
    }
   ],
   "source": [
    "# Load the saved Metadata Table\n",
    "loaded_metadata_df = spark.read.format(\"delta\").load(metadata_path)\n",
    "\n",
    "# Display the loaded Metadata\n",
    "display(loaded_metadata_df)"
   ]
  }
 ],
 "metadata": {
  "application/vnd.databricks.v1+notebook": {
   "computePreferences": null,
   "dashboards": [],
   "environmentMetadata": {
    "base_environment": "",
    "environment_version": "2"
   },
   "language": "python",
   "notebookMetadata": {
    "pythonIndentUnit": 4
   },
   "notebookName": "03 - Metadata Tracking & Data Lineage",
   "widgets": {}
  },
  "language_info": {
   "name": "python"
  }
 },
 "nbformat": 4,
 "nbformat_minor": 0
}
